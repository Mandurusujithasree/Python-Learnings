{
 "cells": [
  {
   "cell_type": "markdown",
   "id": "c4e0c939",
   "metadata": {},
   "source": [
    "# Functions"
   ]
  },
  {
   "cell_type": "code",
   "execution_count": 1,
   "id": "5005dd75",
   "metadata": {},
   "outputs": [
    {
     "name": "stdout",
     "output_type": "stream",
     "text": [
      "Hello\n",
      "Good Morning\n"
     ]
    }
   ],
   "source": [
    "def greet():\n",
    "    print(\"Hello\")\n",
    "    print(\"Good Morning\")\n",
    "greet() #defining function using def keyword and calling the function is also mandatory"
   ]
  },
  {
   "cell_type": "code",
   "execution_count": 3,
   "id": "361f86df",
   "metadata": {},
   "outputs": [
    {
     "name": "stdout",
     "output_type": "stream",
     "text": [
      "Hello Prakuthi\n",
      "Good Morning\n"
     ]
    }
   ],
   "source": [
    "def greet(name):\n",
    "    print(\"Hello\",name)\n",
    "    print(\"Good Morning\") #name can be used inside the function\n",
    "greet(\"Prakuthi\") #Prakuthi is argument when function is called inside brackets is argument"
   ]
  },
  {
   "cell_type": "code",
   "execution_count": 4,
   "id": "798c093e",
   "metadata": {},
   "outputs": [
    {
     "name": "stdout",
     "output_type": "stream",
     "text": [
      "Addition of two numbers:  5\n"
     ]
    }
   ],
   "source": [
    "def addition(i,j):\n",
    "    print(\"Addition of two numbers: \",i+j)\n",
    "addition(2,3) #addition of two numbers using function"
   ]
  },
  {
   "cell_type": "markdown",
   "id": "889e87cc",
   "metadata": {},
   "source": [
    "# Return"
   ]
  },
  {
   "cell_type": "code",
   "execution_count": 9,
   "id": "e7de5cb5",
   "metadata": {},
   "outputs": [
    {
     "name": "stdout",
     "output_type": "stream",
     "text": [
      "Addition of two numbers:\n"
     ]
    },
    {
     "data": {
      "text/plain": [
       "5"
      ]
     },
     "execution_count": 9,
     "metadata": {},
     "output_type": "execute_result"
    }
   ],
   "source": [
    "def addition(i):\n",
    "    print(\"Addition of two numbers:\")\n",
    "    return res\n",
    "res = 2+3\n",
    "addition(res) #returns the addition of two values"
   ]
  },
  {
   "cell_type": "code",
   "execution_count": 10,
   "id": "1786ef79",
   "metadata": {},
   "outputs": [
    {
     "name": "stdout",
     "output_type": "stream",
     "text": [
      "Hello Prakuthi\n"
     ]
    }
   ],
   "source": [
    "def greet(name):\n",
    "    print(\"Hello\",name)\n",
    "    return #return terminates and goes back to the function called\n",
    "    print(\"Good Morning\") #name can be used inside the function\n",
    "greet(\"Prakuthi\")"
   ]
  },
  {
   "cell_type": "markdown",
   "id": "bb054bea",
   "metadata": {},
   "source": [
    "# Types of Functions"
   ]
  },
  {
   "cell_type": "code",
   "execution_count": 11,
   "id": "6f12e148",
   "metadata": {},
   "outputs": [
    {
     "name": "stdout",
     "output_type": "stream",
     "text": [
      "Length of scores:  5\n",
      "Sum of scores:  323\n"
     ]
    }
   ],
   "source": [
    "scores = [19,67,89,95,53]\n",
    "print(\"Length of scores: \",len(scores)) #len() is also built-in function which calculates the length of list\n",
    "print(\"Sum of scores: \",sum(scores)) #sum() is also built-in function which calculates sum of elements in list"
   ]
  },
  {
   "cell_type": "code",
   "execution_count": 16,
   "id": "4735cc2c",
   "metadata": {},
   "outputs": [
    {
     "name": "stdout",
     "output_type": "stream",
     "text": [
      "Average Marks:  67.8\n",
      "Grade : B\n"
     ]
    }
   ],
   "source": [
    "marks = [55,64,75,80,65]\n",
    "def average_marks():\n",
    "    sum_of_marks = sum(marks)\n",
    "    avg_marks = (sum_of_marks)/len(marks)\n",
    "    print(\"Average Marks: \",avg_marks)\n",
    "    if avg_marks >=80:\n",
    "        print(\"Grade : A\")\n",
    "    elif (avg_marks >= 60) and (avg_marks < 80):\n",
    "        print(\"Grade : B\")\n",
    "    elif (avg_marks >= 50) and (avg_marks < 60):\n",
    "        print(\"Grade : C\")\n",
    "    elif avg_marks < 60:\n",
    "        print(\"Grade: F\")\n",
    "average_marks() #average of given numbers using function and printing the grades according to the scored marks\n"
   ]
  },
  {
   "cell_type": "code",
   "execution_count": 17,
   "id": "fedb3d8b",
   "metadata": {},
   "outputs": [
    {
     "name": "stdout",
     "output_type": "stream",
     "text": [
      "Addition of two numbers:  112\n",
      "Multiplication of two numbers:  3015\n"
     ]
    }
   ],
   "source": [
    "def addition(i,j):\n",
    "    print(\"Addition of two numbers: \",i+j)\n",
    "addition(45,67)\n",
    "def multiplication(i,j):\n",
    "    print(\"Multiplication of two numbers: \",i*j)\n",
    "multiplication(45,67)\n",
    "    "
   ]
  },
  {
   "cell_type": "code",
   "execution_count": 19,
   "id": "3bde195c",
   "metadata": {},
   "outputs": [
    {
     "name": "stdout",
     "output_type": "stream",
     "text": [
      "Addition of two numbers:  112\n",
      "Multiplication of two numbers:  3015\n"
     ]
    }
   ],
   "source": [
    "def addition(i,j):\n",
    "    return i+j\n",
    "def multiplication(i,j):\n",
    "    return i*j\n",
    "i=45\n",
    "j=67\n",
    "sums = addition(i,j)\n",
    "multiply = multiplication(i,j)\n",
    "print(\"Addition of two numbers: \",sums)\n",
    "print(\"Multiplication of two numbers: \",multiply) #created two functions for addition and multiplication"
   ]
  },
  {
   "cell_type": "code",
   "execution_count": 36,
   "id": "36968e36",
   "metadata": {},
   "outputs": [
    {
     "name": "stdout",
     "output_type": "stream",
     "text": [
      "3\n",
      "-60\n"
     ]
    }
   ],
   "source": [
    "def absolute_value(num):\n",
    "    if num >= 0:\n",
    "        return num\n",
    "    else:\n",
    "        return -num\n",
    "print(absolute_value(3))\n",
    "print(absolute_value(-60)) #printing absolute values using return and function"
   ]
  },
  {
   "cell_type": "markdown",
   "id": "2f9dedcb",
   "metadata": {},
   "source": [
    "# Doc Strings"
   ]
  },
  {
   "cell_type": "code",
   "execution_count": 30,
   "id": "a7634951",
   "metadata": {},
   "outputs": [
    {
     "name": "stdout",
     "output_type": "stream",
     "text": [
      " Hello Akira Nice to meet you! \n",
      "Hello, I am Sujitha from SVCE.\n",
      "    I am Pursing junior at SVCE Tirupati.\n"
     ]
    }
   ],
   "source": [
    "def greet(name):\n",
    "    \"\"\"Hello, I am Sujitha from SVCE.\n",
    "    I am Pursing junior at SVCE Tirupati.\"\"\"\n",
    "    print(\" Hello \" +name+ \" Nice to meet you! \")\n",
    "greet(\"Akira\")\n",
    "print(greet.__doc__) #__doc__ attribute is used to represent the string in the document"
   ]
  },
  {
   "cell_type": "markdown",
   "id": "064be737",
   "metadata": {},
   "source": [
    "# Scope of Variables"
   ]
  },
  {
   "cell_type": "code",
   "execution_count": 38,
   "id": "f92b0c0e",
   "metadata": {},
   "outputs": [
    {
     "name": "stdout",
     "output_type": "stream",
     "text": [
      "x value inside function :  39\n",
      "X value outside function:  45\n"
     ]
    }
   ],
   "source": [
    "def variable():\n",
    "    x = 39\n",
    "    print(\"x value inside function : \",x)\n",
    "variable()\n",
    "x = 45\n",
    "print(\"X value outside function: \",x) #printing x value from inside and outside function "
   ]
  },
  {
   "cell_type": "markdown",
   "id": "77b344f0",
   "metadata": {},
   "source": [
    "# Positional, Default Arguments"
   ]
  },
  {
   "cell_type": "code",
   "execution_count": 40,
   "id": "fd147951",
   "metadata": {},
   "outputs": [
    {
     "name": "stdout",
     "output_type": "stream",
     "text": [
      "7\n"
     ]
    },
    {
     "ename": "TypeError",
     "evalue": "addition() missing 1 required positional argument: 'n2'",
     "output_type": "error",
     "traceback": [
      "\u001b[1;31m---------------------------------------------------------------------------\u001b[0m",
      "\u001b[1;31mTypeError\u001b[0m                                 Traceback (most recent call last)",
      "\u001b[1;32m~\\AppData\\Local\\Temp/ipykernel_16252/417819995.py\u001b[0m in \u001b[0;36m<module>\u001b[1;34m\u001b[0m\n\u001b[0;32m      2\u001b[0m     \u001b[0mprint\u001b[0m\u001b[1;33m(\u001b[0m\u001b[0mn1\u001b[0m\u001b[1;33m+\u001b[0m\u001b[0mn2\u001b[0m\u001b[1;33m)\u001b[0m\u001b[1;33m\u001b[0m\u001b[1;33m\u001b[0m\u001b[0m\n\u001b[0;32m      3\u001b[0m \u001b[0maddition\u001b[0m\u001b[1;33m(\u001b[0m\u001b[1;36m3\u001b[0m\u001b[1;33m,\u001b[0m\u001b[1;36m4\u001b[0m\u001b[1;33m)\u001b[0m\u001b[1;33m\u001b[0m\u001b[1;33m\u001b[0m\u001b[0m\n\u001b[1;32m----> 4\u001b[1;33m \u001b[0maddition\u001b[0m\u001b[1;33m(\u001b[0m\u001b[1;36m4\u001b[0m\u001b[1;33m)\u001b[0m\u001b[1;33m\u001b[0m\u001b[1;33m\u001b[0m\u001b[0m\n\u001b[0m",
      "\u001b[1;31mTypeError\u001b[0m: addition() missing 1 required positional argument: 'n2'"
     ]
    }
   ],
   "source": [
    "def addition(n1,n2):\n",
    "    print(n1+n2)\n",
    "addition(3,4)\n",
    "addition(4) #here poistional argument error occurs because 4 is assigned to n1 value and n2 value is missing."
   ]
  },
  {
   "cell_type": "code",
   "execution_count": 42,
   "id": "285dd30a",
   "metadata": {},
   "outputs": [
    {
     "name": "stdout",
     "output_type": "stream",
     "text": [
      "7\n",
      "94\n",
      "113\n"
     ]
    }
   ],
   "source": [
    "def addition(n1=23,n2=90):\n",
    "    print(n1+n2)\n",
    "addition(3,4) #it takes argument values\n",
    "addition(4) #here it takes value 4 to n1 and default value taken for n2 = 90\n",
    "addition() #it takes the default values n1 = 23 and n2 = 90"
   ]
  },
  {
   "cell_type": "code",
   "execution_count": 45,
   "id": "7980dab4",
   "metadata": {},
   "outputs": [
    {
     "name": "stdout",
     "output_type": "stream",
     "text": [
      " Hello  Suzz Whatsup!\n",
      " Hello  jaskaran Nice to see you\n"
     ]
    }
   ],
   "source": [
    "def string(name,message):\n",
    "    print(\" Hello \",name,message)\n",
    "string(\"Suzz\",\"Whatsup!\")\n",
    "string(message = \"Nice to see you\",name = \"jaskaran\") #keyword argument doesnt depend on position"
   ]
  },
  {
   "cell_type": "markdown",
   "id": "64cedf14",
   "metadata": {},
   "source": [
    "# Arbitary Arguments"
   ]
  },
  {
   "cell_type": "code",
   "execution_count": 46,
   "id": "c349660d",
   "metadata": {},
   "outputs": [
    {
     "name": "stdout",
     "output_type": "stream",
     "text": [
      "('suji', 'sumo')\n"
     ]
    }
   ],
   "source": [
    "def greet(*name):\n",
    "    print(name)\n",
    "greet(\"suji\",\"sumo\") #arbitary arguments takes mutiple values "
   ]
  },
  {
   "cell_type": "code",
   "execution_count": 48,
   "id": "d9c600d2",
   "metadata": {},
   "outputs": [
    {
     "name": "stdout",
     "output_type": "stream",
     "text": [
      "Addition of two numbers:  (2, 3, 3, 45, 5)\n"
     ]
    }
   ],
   "source": [
    "def addition(*i):\n",
    "    print(\"Addition of two numbers: \",i)\n",
    "addition(2,3,3,45,5)"
   ]
  },
  {
   "cell_type": "markdown",
   "id": "90bc92e1",
   "metadata": {},
   "source": [
    "# Recursion"
   ]
  },
  {
   "cell_type": "code",
   "execution_count": 52,
   "id": "5324f3b8",
   "metadata": {},
   "outputs": [
    {
     "name": "stdout",
     "output_type": "stream",
     "text": [
      "Factorial 5 is :  120\n"
     ]
    }
   ],
   "source": [
    "def factorial(x):\n",
    "    if x == 1:\n",
    "        return x\n",
    "    else:\n",
    "        return(x*factorial(x-1))\n",
    "x = 5\n",
    "print(\"Factorial\",x, \"is : \",factorial(x)) #factorial() is recursive function which calls itself"
   ]
  },
  {
   "cell_type": "code",
   "execution_count": null,
   "id": "4cfefa68",
   "metadata": {},
   "outputs": [],
   "source": [
    "def recursor():\n",
    "    recursor()\n",
    "recursor() #maximum depth is 1000, if it exceeds it returns recursion error"
   ]
  }
 ],
 "metadata": {
  "kernelspec": {
   "display_name": "Python 3 (ipykernel)",
   "language": "python",
   "name": "python3"
  },
  "language_info": {
   "codemirror_mode": {
    "name": "ipython",
    "version": 3
   },
   "file_extension": ".py",
   "mimetype": "text/x-python",
   "name": "python",
   "nbconvert_exporter": "python",
   "pygments_lexer": "ipython3",
   "version": "3.9.7"
  }
 },
 "nbformat": 4,
 "nbformat_minor": 5
}
