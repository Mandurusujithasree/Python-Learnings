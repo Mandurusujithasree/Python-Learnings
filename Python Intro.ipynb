{
 "cells": [
  {
   "cell_type": "markdown",
   "id": "737db74d",
   "metadata": {},
   "source": [
    "# Hello World"
   ]
  },
  {
   "cell_type": "code",
   "execution_count": 39,
   "id": "295861e9",
   "metadata": {},
   "outputs": [
    {
     "name": "stdout",
     "output_type": "stream",
     "text": [
      "Hello World\n"
     ]
    }
   ],
   "source": [
    "print(\"Hello World\")\n",
    "\n"
   ]
  },
  {
   "cell_type": "markdown",
   "id": "53ed6a10",
   "metadata": {},
   "source": [
    "# Variables"
   ]
  },
  {
   "cell_type": "code",
   "execution_count": 40,
   "id": "3c93164a",
   "metadata": {},
   "outputs": [
    {
     "name": "stdout",
     "output_type": "stream",
     "text": [
      "5\n",
      "35.5\n"
     ]
    }
   ],
   "source": [
    "print(5)\n",
    "print(35.5)"
   ]
  },
  {
   "cell_type": "code",
   "execution_count": 41,
   "id": "67c0601a",
   "metadata": {},
   "outputs": [
    {
     "name": "stdout",
     "output_type": "stream",
     "text": [
      "5\n"
     ]
    }
   ],
   "source": [
    "print(\"5\")"
   ]
  },
  {
   "cell_type": "code",
   "execution_count": 42,
   "id": "dc4dd2eb",
   "metadata": {
    "scrolled": true
   },
   "outputs": [
    {
     "name": "stdout",
     "output_type": "stream",
     "text": [
      "Tirupati\n"
     ]
    }
   ],
   "source": [
    "city = \"Tirupati\"\n",
    "print(city)"
   ]
  },
  {
   "cell_type": "code",
   "execution_count": 43,
   "id": "bbfece8c",
   "metadata": {},
   "outputs": [
    {
     "name": "stdout",
     "output_type": "stream",
     "text": [
      "New York\n"
     ]
    }
   ],
   "source": [
    "city = \"New York\"\n",
    "print(city)"
   ]
  },
  {
   "cell_type": "code",
   "execution_count": 44,
   "id": "b95803a4",
   "metadata": {},
   "outputs": [
    {
     "name": "stdout",
     "output_type": "stream",
     "text": [
      "5\n",
      "3.14\n",
      "3.14\n"
     ]
    }
   ],
   "source": [
    "my_favourite_number=5\n",
    "print(my_favourite_number)\n",
    "pi = 3.14\n",
    "print(pi)\n",
    "destination = pi\n",
    "print(destination)"
   ]
  },
  {
   "cell_type": "code",
   "execution_count": 45,
   "id": "5571eea2",
   "metadata": {},
   "outputs": [
    {
     "name": "stdout",
     "output_type": "stream",
     "text": [
      "city: Kathmandu\n"
     ]
    }
   ],
   "source": [
    "print(\"city:\",\"Kathmandu\")"
   ]
  },
  {
   "cell_type": "code",
   "execution_count": 46,
   "id": "43a986a7",
   "metadata": {},
   "outputs": [
    {
     "name": "stdout",
     "output_type": "stream",
     "text": [
      "tpt\n",
      "tpt\n"
     ]
    }
   ],
   "source": [
    "city = input()\n",
    "print(city)"
   ]
  },
  {
   "cell_type": "code",
   "execution_count": 47,
   "id": "175086da",
   "metadata": {},
   "outputs": [
    {
     "name": "stdout",
     "output_type": "stream",
     "text": [
      "Enter City:tpt\n",
      "tpt\n"
     ]
    }
   ],
   "source": [
    "city = input(\"Enter City:\")\n",
    "print(city)"
   ]
  },
  {
   "cell_type": "markdown",
   "id": "0b5d5f98",
   "metadata": {},
   "source": [
    "\n",
    "# Data Types"
   ]
  },
  {
   "cell_type": "markdown",
   "id": "e731fc7f",
   "metadata": {},
   "source": [
    "# Numeric"
   ]
  },
  {
   "cell_type": "code",
   "execution_count": 48,
   "id": "a919183a",
   "metadata": {},
   "outputs": [
    {
     "name": "stdout",
     "output_type": "stream",
     "text": [
      "<class 'int'>\n"
     ]
    }
   ],
   "source": [
    "num1 = 5\n",
    "print(type(num1))"
   ]
  },
  {
   "cell_type": "code",
   "execution_count": 49,
   "id": "c882f058",
   "metadata": {},
   "outputs": [
    {
     "name": "stdout",
     "output_type": "stream",
     "text": [
      "<class 'float'>\n"
     ]
    }
   ],
   "source": [
    "num2 = 5.4\n",
    "print(type(num2))"
   ]
  },
  {
   "cell_type": "code",
   "execution_count": 50,
   "id": "ef74bd82",
   "metadata": {},
   "outputs": [
    {
     "name": "stdout",
     "output_type": "stream",
     "text": [
      "Enter Number: 6\n",
      "<class 'int'>\n"
     ]
    }
   ],
   "source": [
    "num1 = input(\"Enter Number: \")\n",
    "number = int(num1)\n",
    "print(type(number))"
   ]
  },
  {
   "cell_type": "code",
   "execution_count": 51,
   "id": "7072b164",
   "metadata": {},
   "outputs": [
    {
     "name": "stdout",
     "output_type": "stream",
     "text": [
      "Enter Number: 6\n",
      "<class 'int'>\n"
     ]
    }
   ],
   "source": [
    "num1 = int(input(\"Enter Number: \"))\n",
    "print(type(num1))"
   ]
  },
  {
   "cell_type": "code",
   "execution_count": 52,
   "id": "14e9bf4a",
   "metadata": {},
   "outputs": [
    {
     "name": "stdout",
     "output_type": "stream",
     "text": [
      "Enter Number: 6\n",
      "<class 'float'>\n"
     ]
    }
   ],
   "source": [
    "num1 = float(input(\"Enter Number: \"))\n",
    "print(type(num1))"
   ]
  },
  {
   "cell_type": "code",
   "execution_count": 53,
   "id": "6f179690",
   "metadata": {},
   "outputs": [
    {
     "name": "stdout",
     "output_type": "stream",
     "text": [
      "(5+6j)  is type of <class 'complex'>\n"
     ]
    }
   ],
   "source": [
    "a = 5+6j\n",
    "print(a,\" is type of\",type(a))"
   ]
  },
  {
   "cell_type": "markdown",
   "id": "9c2b30fc",
   "metadata": {},
   "source": [
    "# Lists"
   ]
  },
  {
   "cell_type": "code",
   "execution_count": 54,
   "id": "a68f44a6",
   "metadata": {},
   "outputs": [
    {
     "name": "stdout",
     "output_type": "stream",
     "text": [
      "3\n"
     ]
    }
   ],
   "source": [
    "list1 = [1,2,3,4]\n",
    "print(list1[2])"
   ]
  },
  {
   "cell_type": "code",
   "execution_count": 55,
   "id": "7d6efa2e",
   "metadata": {},
   "outputs": [
    {
     "name": "stdout",
     "output_type": "stream",
     "text": [
      "suji\n"
     ]
    }
   ],
   "source": [
    "list2 = ['a',1,\"suji\"]\n",
    "#list[2] = \"suji\"\n",
    "print(list2[2])"
   ]
  },
  {
   "cell_type": "code",
   "execution_count": 56,
   "id": "9bf7c333",
   "metadata": {},
   "outputs": [
    {
     "name": "stdout",
     "output_type": "stream",
     "text": [
      "[434, 67, 23, 88, 45, 78, 99, 200]\n",
      "[200, 78, 88, 67, 89]\n",
      "[200, 99, 78, 45, 88, 23, 67, 434, 89, 156]\n",
      "[89, 67, 88]\n"
     ]
    }
   ],
   "source": [
    "list3 = [156,89,434,67,23,88,45,78,99,200]\n",
    "#from index 2 in the list3,it takes value from index 2 to the last index.\n",
    "print(list3[2:])\n",
    "print(list3[::-2])#reverse of list\n",
    "print(list3[::-1])\n",
    "print(list3[1:6:2])#[start:stop:step]"
   ]
  },
  {
   "cell_type": "code",
   "execution_count": 57,
   "id": "ca8b22c2",
   "metadata": {},
   "outputs": [
    {
     "name": "stdout",
     "output_type": "stream",
     "text": [
      "[156, 89, 567, 67, 23, 88, 45, 78, 99, 200]\n"
     ]
    }
   ],
   "source": [
    "list3[2] = 567\n",
    "#lists are mutable in python.so we can change the values.\n",
    "print(list3)"
   ]
  },
  {
   "cell_type": "markdown",
   "id": "a12a3b12",
   "metadata": {},
   "source": [
    "# Tuples"
   ]
  },
  {
   "cell_type": "code",
   "execution_count": 58,
   "id": "053c0024",
   "metadata": {},
   "outputs": [
    {
     "name": "stdout",
     "output_type": "stream",
     "text": [
      "(1, 2, 'a', 'suji')\n"
     ]
    }
   ],
   "source": [
    "tuple1 = (1,2,'a',\"suji\")\n",
    "print(tuple1)#printing tuple1"
   ]
  },
  {
   "cell_type": "code",
   "execution_count": 59,
   "id": "128709a9",
   "metadata": {},
   "outputs": [
    {
     "name": "stdout",
     "output_type": "stream",
     "text": [
      "('a', 'suji')\n"
     ]
    }
   ],
   "source": [
    "print(tuple1[2:])#printing the elements from index 2 to the last index."
   ]
  },
  {
   "cell_type": "code",
   "execution_count": 60,
   "id": "c3a3d4c6",
   "metadata": {},
   "outputs": [
    {
     "name": "stdout",
     "output_type": "stream",
     "text": [
      "('suji', 'a', 2, 1)\n"
     ]
    }
   ],
   "source": [
    "print(tuple1[::-1])#reverse of tuple1"
   ]
  },
  {
   "cell_type": "code",
   "execution_count": 61,
   "id": "51f3034d",
   "metadata": {},
   "outputs": [
    {
     "name": "stdout",
     "output_type": "stream",
     "text": [
      "(2, 'a', 'suji')\n"
     ]
    }
   ],
   "source": [
    "print(tuple1[1:4:1])"
   ]
  },
  {
   "cell_type": "code",
   "execution_count": 62,
   "id": "30217ca3",
   "metadata": {},
   "outputs": [
    {
     "name": "stdout",
     "output_type": "stream",
     "text": [
      "(1, 2, 'a')\n"
     ]
    }
   ],
   "source": [
    "print(tuple1[0:3])"
   ]
  },
  {
   "cell_type": "code",
   "execution_count": 63,
   "id": "9133acdf",
   "metadata": {},
   "outputs": [
    {
     "ename": "TypeError",
     "evalue": "'tuple' object does not support item assignment",
     "output_type": "error",
     "traceback": [
      "\u001b[1;31m---------------------------------------------------------------------------\u001b[0m",
      "\u001b[1;31mTypeError\u001b[0m                                 Traceback (most recent call last)",
      "\u001b[1;32m~\\AppData\\Local\\Temp/ipykernel_1436/568916333.py\u001b[0m in \u001b[0;36m<module>\u001b[1;34m\u001b[0m\n\u001b[1;32m----> 1\u001b[1;33m \u001b[0mtuple1\u001b[0m\u001b[1;33m[\u001b[0m\u001b[1;36m0\u001b[0m\u001b[1;33m]\u001b[0m \u001b[1;33m=\u001b[0m \u001b[1;36m2\u001b[0m\u001b[1;33m\u001b[0m\u001b[1;33m\u001b[0m\u001b[0m\n\u001b[0m\u001b[0;32m      2\u001b[0m \u001b[0mprint\u001b[0m\u001b[1;33m(\u001b[0m\u001b[0mtuple1\u001b[0m\u001b[1;33m)\u001b[0m\u001b[1;31m#gives error because the tuples are immutable in python\u001b[0m\u001b[1;33m\u001b[0m\u001b[1;33m\u001b[0m\u001b[0m\n",
      "\u001b[1;31mTypeError\u001b[0m: 'tuple' object does not support item assignment"
     ]
    }
   ],
   "source": [
    "tuple1[0] = 2\n",
    "print(tuple1)#gives error because the tuples are immutable in python"
   ]
  },
  {
   "cell_type": "markdown",
   "id": "0d4d478f",
   "metadata": {},
   "source": [
    "# Strings\n"
   ]
  },
  {
   "cell_type": "code",
   "execution_count": null,
   "id": "524e5e24",
   "metadata": {},
   "outputs": [],
   "source": [
    "s = \"Hello World\"\n",
    "print(s)"
   ]
  },
  {
   "cell_type": "code",
   "execution_count": null,
   "id": "b67ee653",
   "metadata": {},
   "outputs": [],
   "source": [
    "print(s[-1]) #slicing"
   ]
  },
  {
   "cell_type": "code",
   "execution_count": null,
   "id": "c127c5d6",
   "metadata": {},
   "outputs": [],
   "source": [
    "print(s[::-1]) # reverse of string"
   ]
  },
  {
   "cell_type": "code",
   "execution_count": null,
   "id": "6b1985bd",
   "metadata": {},
   "outputs": [],
   "source": [
    "print(s[1:7])"
   ]
  },
  {
   "cell_type": "code",
   "execution_count": null,
   "id": "65201dcb",
   "metadata": {},
   "outputs": [],
   "source": [
    "s1 = \"\"\"Hey Welcome to the Party\"\"\"\n",
    "print(s1)\n",
    "s2 = \"Coconut\"\n",
    "print(s2)"
   ]
  },
  {
   "cell_type": "code",
   "execution_count": null,
   "id": "314ce0ae",
   "metadata": {},
   "outputs": [],
   "source": [
    "s1 = '''Hey Welcome to the Party'''\n",
    "print(s1)"
   ]
  },
  {
   "cell_type": "code",
   "execution_count": null,
   "id": "4d04e530",
   "metadata": {},
   "outputs": [],
   "source": [
    "s1[2] = 'f' # gives error because string is immutable"
   ]
  },
  {
   "cell_type": "markdown",
   "id": "f028078e",
   "metadata": {},
   "source": [
    "\n",
    "# Sets"
   ]
  },
  {
   "cell_type": "code",
   "execution_count": null,
   "id": "72fda9d4",
   "metadata": {},
   "outputs": [],
   "source": [
    "set1 = {1,2,3,5,6,'a',2.4}\n",
    "print(set1)\n"
   ]
  },
  {
   "cell_type": "code",
   "execution_count": null,
   "id": "470e6e27",
   "metadata": {},
   "outputs": [],
   "source": [
    "print(type(set1))"
   ]
  },
  {
   "cell_type": "code",
   "execution_count": null,
   "id": "10de8dcc",
   "metadata": {},
   "outputs": [],
   "source": [
    "set2 = {1,1,1,3,5,6,7,7,4}\n",
    "print(set2) #eliminates the duplicates in the set"
   ]
  },
  {
   "cell_type": "code",
   "execution_count": null,
   "id": "f044ced9",
   "metadata": {},
   "outputs": [],
   "source": [
    "print(set2[1]) #slicing doesnot work because set is unordered collection"
   ]
  },
  {
   "cell_type": "markdown",
   "id": "7f42426b",
   "metadata": {},
   "source": [
    "# Dictionary"
   ]
  },
  {
   "cell_type": "code",
   "execution_count": null,
   "id": "40f5b2c7",
   "metadata": {},
   "outputs": [],
   "source": [
    "dict1 = {'a' : 1,'b' : 2}\n",
    "print(dict1)\n",
    "print(type(dict1))"
   ]
  },
  {
   "cell_type": "code",
   "execution_count": null,
   "id": "b11f5840",
   "metadata": {},
   "outputs": [],
   "source": [
    "print(dict1['b']) #using key retrieving the value "
   ]
  },
  {
   "cell_type": "code",
   "execution_count": null,
   "id": "eedc9115",
   "metadata": {},
   "outputs": [],
   "source": [
    "print(dict1[2]) # slicing doesnt work"
   ]
  },
  {
   "cell_type": "markdown",
   "id": "b931a8c5",
   "metadata": {},
   "source": [
    "# Conversion btw Data Types"
   ]
  },
  {
   "cell_type": "code",
   "execution_count": null,
   "id": "44dc4194",
   "metadata": {},
   "outputs": [],
   "source": [
    "a = 5.43\n",
    "print(int(a))"
   ]
  },
  {
   "cell_type": "code",
   "execution_count": null,
   "id": "4e5c2bb1",
   "metadata": {},
   "outputs": [],
   "source": [
    "a = 5\n",
    "print(float(a))"
   ]
  },
  {
   "cell_type": "code",
   "execution_count": null,
   "id": "c9ee1d84",
   "metadata": {},
   "outputs": [],
   "source": [
    "a = 534.67\n",
    "print(str(a))"
   ]
  },
  {
   "cell_type": "code",
   "execution_count": null,
   "id": "25f225f9",
   "metadata": {},
   "outputs": [],
   "source": [
    "float('25')"
   ]
  },
  {
   "cell_type": "code",
   "execution_count": null,
   "id": "3dba48e9",
   "metadata": {},
   "outputs": [],
   "source": [
    "str('1p')"
   ]
  },
  {
   "cell_type": "code",
   "execution_count": null,
   "id": "cce627b3",
   "metadata": {},
   "outputs": [],
   "source": [
    "int('1p')"
   ]
  },
  {
   "cell_type": "code",
   "execution_count": null,
   "id": "b569bb93",
   "metadata": {},
   "outputs": [],
   "source": [
    "set([1,2,34,56])"
   ]
  },
  {
   "cell_type": "code",
   "execution_count": null,
   "id": "2ec57bcb",
   "metadata": {},
   "outputs": [],
   "source": [
    "tuple([1,2,4,56,6])"
   ]
  },
  {
   "cell_type": "code",
   "execution_count": null,
   "id": "d2653b71",
   "metadata": {},
   "outputs": [],
   "source": [
    "list((1,5,'a',45))"
   ]
  },
  {
   "cell_type": "code",
   "execution_count": null,
   "id": "dd3bcd30",
   "metadata": {},
   "outputs": [],
   "source": [
    "dict([[1,2],[3,4]])"
   ]
  },
  {
   "cell_type": "code",
   "execution_count": null,
   "id": "2242b6f0",
   "metadata": {},
   "outputs": [],
   "source": [
    "dict(((1,2),(2,4)))"
   ]
  },
  {
   "cell_type": "markdown",
   "id": "4854b46a",
   "metadata": {},
   "source": [
    "# Type Conversions\n"
   ]
  },
  {
   "cell_type": "code",
   "execution_count": null,
   "id": "ca2d5990",
   "metadata": {},
   "outputs": [],
   "source": [
    "num1 = 5\n",
    "num2 = 9.8\n",
    "num3 = num1 + num2\n",
    "print(type(num1))\n",
    "print(type(num2))\n",
    "print(type(num3))\n",
    "print(num3) #implicit type conversion - avoids loss of data ,automatically python interpreter does this"
   ]
  },
  {
   "cell_type": "code",
   "execution_count": null,
   "id": "f2653e16",
   "metadata": {},
   "outputs": [],
   "source": [
    "num1 = 5\n",
    "num2 = \"9.8\"\n",
    "num3 = num1 + num2\n",
    "print(type(num1))\n",
    "print(type(num2))\n",
    "print(type(num3))"
   ]
  },
  {
   "cell_type": "code",
   "execution_count": null,
   "id": "38bc4dca",
   "metadata": {},
   "outputs": [],
   "source": [
    "num1 = 5\n",
    "num2 = \"98\"\n",
    "print(type(num1))\n",
    "print(type(num2))\n",
    "num2 = int(num2)\n",
    "print(type(num2))\n",
    "num3 = num1 + num2\n",
    "print(type(num3))\n",
    "print(num3) #explicit Conversion here string is converted into int by user (Type casting)"
   ]
  },
  {
   "cell_type": "markdown",
   "id": "3e937edd",
   "metadata": {},
   "source": [
    "# Print()\n",
    "\n"
   ]
  },
  {
   "cell_type": "code",
   "execution_count": null,
   "id": "2b54254c",
   "metadata": {},
   "outputs": [],
   "source": [
    "print(1,2,3,4)"
   ]
  },
  {
   "cell_type": "code",
   "execution_count": null,
   "id": "4347df98",
   "metadata": {},
   "outputs": [],
   "source": [
    "print(1,2,3,4,sep = '*',end = '\\n')"
   ]
  },
  {
   "cell_type": "code",
   "execution_count": null,
   "id": "98a57370",
   "metadata": {},
   "outputs": [],
   "source": [
    "print(1,2,3,4,sep = '*',end = '&')"
   ]
  },
  {
   "cell_type": "code",
   "execution_count": null,
   "id": "ebde4fae",
   "metadata": {},
   "outputs": [],
   "source": [
    "print(1,2,3,4,sep = '*',end = '&',flush = False) #flush clears the internal buffer"
   ]
  },
  {
   "cell_type": "markdown",
   "id": "bcd2e6cb",
   "metadata": {},
   "source": [
    "# Output Formatting\n"
   ]
  },
  {
   "cell_type": "code",
   "execution_count": null,
   "id": "ad59cb38",
   "metadata": {},
   "outputs": [],
   "source": [
    "x = 4\n",
    "y = 5\n",
    "print(\"x value is {} and y value is {}\".format(x,y)) # good Presenting "
   ]
  },
  {
   "cell_type": "code",
   "execution_count": null,
   "id": "8f6998e0",
   "metadata": {},
   "outputs": [],
   "source": [
    "x = 4\n",
    "y = 5\n",
    "print(\"x value is {0} and y value is {1}\".format(x,y))\n",
    "print(\"x value is {1} and y value is {0}\".format(x,y)) # {} are placeholders used to specify the order in which manner it has to be printed.\n"
   ]
  },
  {
   "cell_type": "code",
   "execution_count": null,
   "id": "c30e1753",
   "metadata": {},
   "outputs": [],
   "source": [
    "print(\"Hello {name},{greeting}\".format(name = \"suji\", greeting = \"Good Morning\")) # we can use keyword arguments to print string"
   ]
  },
  {
   "cell_type": "code",
   "execution_count": null,
   "id": "2101cdac",
   "metadata": {},
   "outputs": [],
   "source": [
    "x = 1234.67899644\n",
    "print(\"The value of x is %3.2f\" %x) #sprintf it stores in buffer "
   ]
  },
  {
   "cell_type": "code",
   "execution_count": null,
   "id": "d24a6027",
   "metadata": {},
   "outputs": [],
   "source": [
    "eval('2+3') # eval() is used to evaluate even the expressions."
   ]
  },
  {
   "cell_type": "code",
   "execution_count": null,
   "id": "909d0c3c",
   "metadata": {},
   "outputs": [],
   "source": [
    "eval('2*3')\n"
   ]
  },
  {
   "cell_type": "code",
   "execution_count": null,
   "id": "63c32505",
   "metadata": {},
   "outputs": [],
   "source": [
    "import math\n",
    "print(pi)"
   ]
  },
  {
   "cell_type": "code",
   "execution_count": null,
   "id": "d587e530",
   "metadata": {},
   "outputs": [],
   "source": [
    "from math import pi\n",
    "pi"
   ]
  },
  {
   "cell_type": "code",
   "execution_count": null,
   "id": "d4e221c1",
   "metadata": {},
   "outputs": [],
   "source": [
    "import sys\n",
    "sys.path #list of directory locations"
   ]
  },
  {
   "cell_type": "markdown",
   "id": "11a69bfb",
   "metadata": {},
   "source": [
    "# Operators"
   ]
  },
  {
   "cell_type": "code",
   "execution_count": null,
   "id": "8072c90b",
   "metadata": {},
   "outputs": [],
   "source": [
    "res = True\n",
    "res1 = False\n",
    "print(int(res),res)"
   ]
  },
  {
   "cell_type": "code",
   "execution_count": null,
   "id": "c6e5f731",
   "metadata": {},
   "outputs": [],
   "source": [
    "number = 10\n",
    "print(number < 11) #comparison operations condition satisfy true otherwise false"
   ]
  },
  {
   "cell_type": "code",
   "execution_count": null,
   "id": "42d4ad87",
   "metadata": {},
   "outputs": [],
   "source": [
    "number = 15\n",
    "print(number>11)"
   ]
  },
  {
   "cell_type": "code",
   "execution_count": null,
   "id": "ee94920d",
   "metadata": {},
   "outputs": [],
   "source": [
    "print(number != 10)"
   ]
  },
  {
   "cell_type": "code",
   "execution_count": null,
   "id": "d80b019c",
   "metadata": {},
   "outputs": [],
   "source": [
    "number = 12.0\n",
    "print(number == 12)"
   ]
  },
  {
   "cell_type": "code",
   "execution_count": null,
   "id": "f2de369a",
   "metadata": {},
   "outputs": [],
   "source": [
    "number = 18\n",
    "print(number<=19)"
   ]
  },
  {
   "cell_type": "code",
   "execution_count": null,
   "id": "98cc5290",
   "metadata": {},
   "outputs": [],
   "source": [
    "number = 18\n",
    "print(number>=18)"
   ]
  },
  {
   "cell_type": "code",
   "execution_count": null,
   "id": "7ed2f7d1",
   "metadata": {},
   "outputs": [],
   "source": [
    "age = 12\n",
    "gpa = 9.8\n",
    "res = age > 10 and gpa > 9\n",
    "print(res) #logical and "
   ]
  },
  {
   "cell_type": "code",
   "execution_count": null,
   "id": "ad8c6df7",
   "metadata": {},
   "outputs": [],
   "source": [
    "age = 12\n",
    "gpa = 9.8\n",
    "res = age > 10 or gpa > 9\n",
    "print(res) #logical or "
   ]
  },
  {
   "cell_type": "code",
   "execution_count": null,
   "id": "d79ecc7e",
   "metadata": {},
   "outputs": [],
   "source": [
    "res = True\n",
    "print(not res)"
   ]
  },
  {
   "cell_type": "code",
   "execution_count": null,
   "id": "a1748fc7",
   "metadata": {},
   "outputs": [],
   "source": [
    "language = \"Python\"\n",
    "print(\"1.\",language == \"Python\")\n",
    "age = 18\n",
    "print(\"2.\",age>=18)\n",
    "print(\"3.\",age>18)\n",
    "print(\"4.\",age>=18 and language == \"java\")"
   ]
  },
  {
   "cell_type": "code",
   "execution_count": null,
   "id": "5efe29c1",
   "metadata": {},
   "outputs": [],
   "source": [
    "x = 5\n",
    "y = 7\n",
    "print(x+y)\n",
    "print(x-y)\n",
    "print(x*y)\n",
    "print(x/y)\n",
    "print(x//y)\n",
    "print(x%y)\n",
    "print(x**y) #Arithmetic operations"
   ]
  },
  {
   "cell_type": "code",
   "execution_count": null,
   "id": "5c22521d",
   "metadata": {},
   "outputs": [],
   "source": [
    "x = 15\n",
    "y = 12\n",
    "print(x & y)\n",
    "print(x|y)\n",
    "print(x^y)\n",
    "print(x<<2)\n",
    "print(x>>2) #bitwise operators"
   ]
  },
  {
   "cell_type": "code",
   "execution_count": null,
   "id": "bcc1ebb6",
   "metadata": {},
   "outputs": [],
   "source": [
    "x = \"suzz\"\n",
    "y = \"suzz\"\n",
    "x1 = 5\n",
    "y1 = 5\n",
    "print(x1 is y1)\n",
    "print(x1 is not y1)\n",
    "print(x is y)\n",
    "print(x is not y) #identity operator"
   ]
  },
  {
   "cell_type": "code",
   "execution_count": null,
   "id": "b2c136a8",
   "metadata": {},
   "outputs": [],
   "source": [
    "x2 = {'a':1,'b':2}\n",
    "y2 = \"Hello World\"\n",
    "print('H' in y2)\n",
    "print('E' in y2)\n",
    "print('a' in x2)\n",
    "print('1' not in x2) #membership operator"
   ]
  },
  {
   "cell_type": "markdown",
   "id": "6e88f319",
   "metadata": {},
   "source": [
    "# Namespaces and Scope"
   ]
  },
  {
   "cell_type": "code",
   "execution_count": null,
   "id": "fe03550b",
   "metadata": {},
   "outputs": [],
   "source": [
    "a = 5\n",
    "print(id(a))\n",
    "a = 6\n",
    "print(id(6))\n",
    "print(id(5))#id gives address of the object"
   ]
  },
  {
   "cell_type": "code",
   "execution_count": null,
   "id": "f085e987",
   "metadata": {},
   "outputs": [],
   "source": [
    "def printHello():\n",
    "    print(\"Hello\")\n",
    "a = printHello\n",
    "a() #here functions are also objects,so names can also use to refer them.\n",
    "#Namespace is the collection of names\n",
    "# scope is the part of the program where name can be accesssed"
   ]
  },
  {
   "cell_type": "code",
   "execution_count": 70,
   "id": "2d4f1359",
   "metadata": {},
   "outputs": [
    {
     "name": "stdout",
     "output_type": "stream",
     "text": [
      "a = 30\n",
      "a = 20\n",
      "a = 10\n"
     ]
    }
   ],
   "source": [
    "def outer_function():\n",
    "    a = 20 #local namespace\n",
    "\n",
    "    def inner_function():\n",
    "        a = 30\n",
    "        print('a =', a) #nested namespace\n",
    "\n",
    "    inner_function()\n",
    "    print('a =', a)\n",
    "\n",
    "\n",
    "a = 10 #global namespace\n",
    "outer_function()\n",
    "print('a =', a)"
   ]
  },
  {
   "cell_type": "code",
   "execution_count": 71,
   "id": "b5c026cf",
   "metadata": {},
   "outputs": [
    {
     "name": "stdout",
     "output_type": "stream",
     "text": [
      "a = 30\n",
      "a = 30\n",
      "a = 30\n"
     ]
    }
   ],
   "source": [
    "def outer_function():\n",
    "    global a\n",
    "    a = 20\n",
    "\n",
    "    def inner_function():\n",
    "        global a\n",
    "        a = 30\n",
    "        print('a =', a)\n",
    "\n",
    "    inner_function()\n",
    "    print('a =', a)\n",
    "\n",
    "\n",
    "a = 10\n",
    "outer_function()\n",
    "print('a =', a) # all references are assigned to global keyword."
   ]
  }
 ],
 "metadata": {
  "kernelspec": {
   "display_name": "Python 3 (ipykernel)",
   "language": "python",
   "name": "python3"
  },
  "language_info": {
   "codemirror_mode": {
    "name": "ipython",
    "version": 3
   },
   "file_extension": ".py",
   "mimetype": "text/x-python",
   "name": "python",
   "nbconvert_exporter": "python",
   "pygments_lexer": "ipython3",
   "version": "3.9.7"
  }
 },
 "nbformat": 4,
 "nbformat_minor": 5
}
