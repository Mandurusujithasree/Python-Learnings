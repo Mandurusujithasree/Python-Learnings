{
 "cells": [
  {
   "cell_type": "markdown",
   "id": "9bd73bb8",
   "metadata": {},
   "source": [
    "# Classes and Objects"
   ]
  },
  {
   "cell_type": "code",
   "execution_count": 6,
   "id": "a9bace78",
   "metadata": {},
   "outputs": [
    {
     "name": "stdout",
     "output_type": "stream",
     "text": [
      "Harry\n",
      "85\n"
     ]
    }
   ],
   "source": [
    "class Student:\n",
    "    pass\n",
    "\n",
    "student1 = Student()\n",
    "student1.name = \"Harry\"\n",
    "student1.marks = 85\n",
    "\n",
    "print(student1.name) \n",
    "print(student1.marks)\n",
    "# Here just created class and added object student1 and attributes to the obj."
   ]
  },
  {
   "cell_type": "code",
   "execution_count": 7,
   "id": "52ad91af",
   "metadata": {},
   "outputs": [
    {
     "name": "stdout",
     "output_type": "stream",
     "text": [
      "True\n"
     ]
    }
   ],
   "source": [
    "class Student:\n",
    "    def check_pass_fail(self):\n",
    "        if self.marks >= 40:\n",
    "            return True\n",
    "        else:\n",
    "            return False\n",
    "        \n",
    "\n",
    "student1 = Student()\n",
    "student1.name = \"Harry\"\n",
    "student1.marks = 85\n",
    "did_pass = student1.check_pass_fail()\n",
    "print(did_pass)\n",
    "\n",
    "# Here just created class and added object student1 and attributes to the obj.Added methods inside the class."
   ]
  },
  {
   "cell_type": "markdown",
   "id": "1f5833cd",
   "metadata": {},
   "source": [
    "# Methods"
   ]
  },
  {
   "cell_type": "code",
   "execution_count": 10,
   "id": "2e25aad2",
   "metadata": {},
   "outputs": [
    {
     "name": "stdout",
     "output_type": "stream",
     "text": [
      "True\n",
      "False\n"
     ]
    }
   ],
   "source": [
    "class Student:\n",
    "    def check_pass_fail(self):\n",
    "        if self.marks >= 40:\n",
    "            return True\n",
    "        else:\n",
    "            return False\n",
    "        \n",
    "\n",
    "student1 = Student()\n",
    "student1.name = \"Harry\"\n",
    "student1.marks = 85\n",
    "did_pass = student1.check_pass_fail()\n",
    "print(did_pass)\n",
    "\n",
    "student2 = Student()\n",
    "student2.name = \"Janet\"\n",
    "student2.marks = 30\n",
    "did_pass = student2.check_pass_fail()\n",
    "print(did_pass) #added another object to the class"
   ]
  },
  {
   "cell_type": "code",
   "execution_count": 17,
   "id": "4731361c",
   "metadata": {},
   "outputs": [
    {
     "name": "stdout",
     "output_type": "stream",
     "text": [
      "True\n",
      "False\n"
     ]
    }
   ],
   "source": [
    "class Student:\n",
    "    def check_pass_fail(self):\n",
    "        if self.marks >= 40:\n",
    "            return True\n",
    "        else:\n",
    "            return False\n",
    "    def __init__(self,name,marks): #__init__ method which calls automatically for every object creation.\n",
    "        self.name=name\n",
    "        self.marks=marks\n",
    "        \n",
    "\n",
    "student1 = Student(\"Harry\", 85)\n",
    "did_pass = student1.check_pass_fail()\n",
    "print(did_pass)\n",
    "\n",
    "student2 = Student(\"Janet\", 30)\n",
    "did_pass = student2.check_pass_fail()\n",
    "print(did_pass)"
   ]
  },
  {
   "cell_type": "code",
   "execution_count": 23,
   "id": "91a29025",
   "metadata": {},
   "outputs": [
    {
     "name": "stdout",
     "output_type": "stream",
     "text": [
      "real = 1\n",
      "imag = 8\n"
     ]
    }
   ],
   "source": [
    "\n",
    "class Complex:\n",
    "    def __init__(self, real, imag):\n",
    "        self.real = real\n",
    "        self.imag = imag\n",
    "        \n",
    "    def add(self, number):\n",
    "        real = self.real + number.real\n",
    "        imag = self.imag + number.imag\n",
    "        result = Complex(real, imag)\n",
    "        return result\n",
    "\n",
    "n1 = Complex(5, 6)\n",
    "n2 = Complex(-4, 2)\n",
    "result = n1.add(n2)\n",
    "\n",
    "print(\"real =\", result.real)\n",
    "print(\"imag =\", result.imag) # Adding complex numbers"
   ]
  },
  {
   "cell_type": "code",
   "execution_count": 26,
   "id": "c14cf47d",
   "metadata": {},
   "outputs": [
    {
     "name": "stdout",
     "output_type": "stream",
     "text": [
      "12\n"
     ]
    }
   ],
   "source": [
    "class Triangle:\n",
    "    def __init__(self, a, b, c):\n",
    "        self.a = a\n",
    "        self.b = b\n",
    "        self.c = c\n",
    "    def Perimeter(self):\n",
    "        perimeter = self.a+self.b+self.c\n",
    "        return perimeter\n",
    "t1 = Triangle(3,4,5)\n",
    "perimeter = t1.Perimeter()\n",
    "print(perimeter) #perimeter of triangle"
   ]
  },
  {
   "cell_type": "code",
   "execution_count": 28,
   "id": "d7dc1a78",
   "metadata": {},
   "outputs": [
    {
     "name": "stdout",
     "output_type": "stream",
     "text": [
      "Blu is a bird\n",
      "Woo is also a bird\n",
      "Blu is 10 years old\n",
      "Woo is 15 years old\n"
     ]
    }
   ],
   "source": [
    "class Parrot:\n",
    "\n",
    "    # class attribute\n",
    "    species = \"bird\"\n",
    "\n",
    "    # instance attribute\n",
    "    def __init__(self, name, age):\n",
    "        self.name = name\n",
    "        self.age = age\n",
    "\n",
    "# instantiate the Parrot class\n",
    "blu = Parrot(\"Blu\", 10)\n",
    "woo = Parrot(\"Woo\", 15)\n",
    "\n",
    "# access the class attributes\n",
    "print(\"Blu is a {}\".format(blu.__class__.species)) #__class__.attribute name is used to access class attribute\n",
    "print(\"Woo is also a {}\".format(woo.__class__.species))\n",
    "\n",
    "# access the instance attributes\n",
    "print(\"{} is {} years old\".format( blu.name, blu.age))\n",
    "print(\"{} is {} years old\".format( woo.name, woo.age))"
   ]
  },
  {
   "cell_type": "code",
   "execution_count": 30,
   "id": "0d62e307",
   "metadata": {},
   "outputs": [
    {
     "name": "stdout",
     "output_type": "stream",
     "text": [
      "Blu sings 'Happy'\n",
      "Blu is now dancing\n"
     ]
    }
   ],
   "source": [
    "class Parrot:\n",
    "    \n",
    "    def __init__(self, name, age):\n",
    "        self.name = name\n",
    "        self.age = age\n",
    "    \n",
    "    def sing(self, song):\n",
    "        return \"{} sings {}\".format(self.name, song)\n",
    "\n",
    "    def dance(self):\n",
    "        return \"{} is now dancing\".format(self.name)\n",
    "\n",
    "blu = Parrot(\"Blu\", 10)\n",
    "\n",
    "print(blu.sing(\"'Happy'\"))\n",
    "print(blu.dance()) #creating methods and accessing"
   ]
  },
  {
   "cell_type": "markdown",
   "id": "8dbb831b",
   "metadata": {},
   "source": [
    "# Inheritance"
   ]
  },
  {
   "cell_type": "code",
   "execution_count": 31,
   "id": "0a317652",
   "metadata": {},
   "outputs": [
    {
     "name": "stdout",
     "output_type": "stream",
     "text": [
      "Bird is ready\n",
      "Penguin is ready\n",
      "Penguin\n",
      "Swim faster\n",
      "Run faster\n"
     ]
    }
   ],
   "source": [
    "class Bird: #super class\n",
    "    \n",
    "    def __init__(self):\n",
    "        print(\"Bird is ready\")\n",
    "\n",
    "    def whoisThis(self):\n",
    "        print(\"Bird\")\n",
    "\n",
    "    def swim(self):\n",
    "        print(\"Swim faster\")\n",
    "\n",
    "class Penguin(Bird): #child class\n",
    "\n",
    "    def __init__(self):\n",
    "        super().__init__()\n",
    "        print(\"Penguin is ready\")\n",
    "\n",
    "    def whoisThis(self):\n",
    "        print(\"Penguin\")\n",
    "\n",
    "    def run(self):\n",
    "        print(\"Run faster\")\n",
    "\n",
    "peggy = Penguin()\n",
    "peggy.whoisThis()\n",
    "peggy.swim()\n",
    "peggy.run()"
   ]
  },
  {
   "cell_type": "markdown",
   "id": "cc50eeaf",
   "metadata": {},
   "source": [
    "# Encapsulation"
   ]
  },
  {
   "cell_type": "code",
   "execution_count": 32,
   "id": "4f8c21f2",
   "metadata": {},
   "outputs": [
    {
     "name": "stdout",
     "output_type": "stream",
     "text": [
      "Selling Price: 900\n",
      "Selling Price: 900\n",
      "Selling Price: 1000\n"
     ]
    }
   ],
   "source": [
    "class Computer:\n",
    "\n",
    "    def __init__(self):\n",
    "        self.__maxprice = 900\n",
    "\n",
    "    def sell(self):\n",
    "        print(\"Selling Price: {}\".format(self.__maxprice))\n",
    "\n",
    "    def setMaxPrice(self, price):\n",
    "        self.__maxprice = price\n",
    "\n",
    "c = Computer()\n",
    "c.sell()\n",
    "\n",
    "c.__maxprice = 1000\n",
    "c.sell() #As it is private variable it cannot be changed directly - Encapsulation\n",
    "\n",
    "c.setMaxPrice(1000) #set is used to change it\n",
    "c.sell()"
   ]
  },
  {
   "cell_type": "markdown",
   "id": "9b269722",
   "metadata": {},
   "source": [
    "# Polymorphism"
   ]
  },
  {
   "cell_type": "code",
   "execution_count": 35,
   "id": "d2108c90",
   "metadata": {},
   "outputs": [
    {
     "name": "stdout",
     "output_type": "stream",
     "text": [
      "Parrot can fly\n",
      "Penguin can't fly\n"
     ]
    }
   ],
   "source": [
    "class Parrot:\n",
    "\n",
    "    def fly(self):\n",
    "        print(\"Parrot can fly\")\n",
    "    \n",
    "    def swim(self):\n",
    "        print(\"Parrot can't swim\")\n",
    "\n",
    "class Penguin:\n",
    "\n",
    "    def fly(self):\n",
    "        print(\"Penguin can't fly\")\n",
    "    \n",
    "    def swim(self):\n",
    "        print(\"Penguin can swim\")\n",
    "\n",
    "# common interface\n",
    "def flying_test(bird):\n",
    "    bird.fly()\n",
    "\n",
    "#instantiate objects\n",
    "blu = Parrot()\n",
    "peggy = Penguin()\n",
    "\n",
    "# passing the object\n",
    "flying_test(blu)\n",
    "flying_test(peggy)"
   ]
  },
  {
   "cell_type": "code",
   "execution_count": 2,
   "id": "5f02d993",
   "metadata": {},
   "outputs": [
    {
     "name": "stdout",
     "output_type": "stream",
     "text": [
      "10\n",
      "<function Person.greet at 0x000001D8A8D75310>\n",
      "This is a person class\n"
     ]
    }
   ],
   "source": [
    "class Person:\n",
    "    \"This is a person class\"\n",
    "    age = 10\n",
    "\n",
    "    def greet(self):\n",
    "        print('Hello')\n",
    "\n",
    "print(Person.age) #gives the class object\n",
    "\n",
    "print(Person.greet) #gives the function \n",
    "\n",
    "print(Person.__doc__) #returns docstring in the class."
   ]
  },
  {
   "cell_type": "code",
   "execution_count": 3,
   "id": "1deba66f",
   "metadata": {},
   "outputs": [
    {
     "name": "stdout",
     "output_type": "stream",
     "text": [
      "<function Person.greet at 0x000001D8A8D75670>\n",
      "<bound method Person.greet of <__main__.Person object at 0x000001D8A8D58610>>\n",
      "Hello\n"
     ]
    }
   ],
   "source": [
    "class Person:\n",
    "    \"This is a person class\"\n",
    "    age = 10\n",
    "\n",
    "    def greet(self):\n",
    "        print('Hello')\n",
    "        \n",
    "harry = Person() #object creation\n",
    "\n",
    "print(Person.greet) #returns function\n",
    "\n",
    "print(harry.greet) #returns details \n",
    "\n",
    "harry.greet() #calls greet"
   ]
  },
  {
   "cell_type": "markdown",
   "id": "530655be",
   "metadata": {},
   "source": [
    "# Constructors "
   ]
  },
  {
   "cell_type": "code",
   "execution_count": 5,
   "id": "02ed1db4",
   "metadata": {},
   "outputs": [
    {
     "name": "stdout",
     "output_type": "stream",
     "text": [
      "2+3j\n",
      "(5, 0, 10)\n"
     ]
    },
    {
     "ename": "AttributeError",
     "evalue": "'ComplexNumber' object has no attribute 'attr'",
     "output_type": "error",
     "traceback": [
      "\u001b[1;31m---------------------------------------------------------------------------\u001b[0m",
      "\u001b[1;31mAttributeError\u001b[0m                            Traceback (most recent call last)",
      "\u001b[1;32m~\\AppData\\Local\\Temp/ipykernel_4068/2914305420.py\u001b[0m in \u001b[0;36m<module>\u001b[1;34m\u001b[0m\n\u001b[0;32m     12\u001b[0m \u001b[0mnum2\u001b[0m\u001b[1;33m.\u001b[0m\u001b[0mattr\u001b[0m \u001b[1;33m=\u001b[0m \u001b[1;36m10\u001b[0m\u001b[1;33m\u001b[0m\u001b[1;33m\u001b[0m\u001b[0m\n\u001b[0;32m     13\u001b[0m \u001b[0mprint\u001b[0m\u001b[1;33m(\u001b[0m\u001b[1;33m(\u001b[0m\u001b[0mnum2\u001b[0m\u001b[1;33m.\u001b[0m\u001b[0mreal\u001b[0m\u001b[1;33m,\u001b[0m \u001b[0mnum2\u001b[0m\u001b[1;33m.\u001b[0m\u001b[0mimag\u001b[0m\u001b[1;33m,\u001b[0m \u001b[0mnum2\u001b[0m\u001b[1;33m.\u001b[0m\u001b[0mattr\u001b[0m\u001b[1;33m)\u001b[0m\u001b[1;33m)\u001b[0m\u001b[1;33m\u001b[0m\u001b[1;33m\u001b[0m\u001b[0m\n\u001b[1;32m---> 14\u001b[1;33m \u001b[0mprint\u001b[0m\u001b[1;33m(\u001b[0m\u001b[0mnum1\u001b[0m\u001b[1;33m.\u001b[0m\u001b[0mattr\u001b[0m\u001b[1;33m)\u001b[0m\u001b[1;33m\u001b[0m\u001b[1;33m\u001b[0m\u001b[0m\n\u001b[0m",
      "\u001b[1;31mAttributeError\u001b[0m: 'ComplexNumber' object has no attribute 'attr'"
     ]
    }
   ],
   "source": [
    "class ComplexNumber:\n",
    "    def __init__(self, r=0, i=0):\n",
    "        self.real = r\n",
    "        self.imag = i\n",
    "\n",
    "    def get_data(self):\n",
    "        print(f'{self.real}+{self.imag}j')\n",
    "\n",
    "num1 = ComplexNumber(2, 3) #creating obj\n",
    "num1.get_data() #calls get_data method\n",
    "num2 = ComplexNumber(5)\n",
    "num2.attr = 10\n",
    "print((num2.real, num2.imag, num2.attr))\n",
    "print(num1.attr)#doesnt have attr attribute in object1"
   ]
  },
  {
   "cell_type": "code",
   "execution_count": 9,
   "id": "51234b47",
   "metadata": {},
   "outputs": [
    {
     "name": "stdout",
     "output_type": "stream",
     "text": [
      "2+3j\n"
     ]
    },
    {
     "ename": "AttributeError",
     "evalue": "'ComplexNumber' object has no attribute 'imag'",
     "output_type": "error",
     "traceback": [
      "\u001b[1;31m---------------------------------------------------------------------------\u001b[0m",
      "\u001b[1;31mAttributeError\u001b[0m                            Traceback (most recent call last)",
      "\u001b[1;32m~\\AppData\\Local\\Temp/ipykernel_4068/2571166212.py\u001b[0m in \u001b[0;36m<module>\u001b[1;34m\u001b[0m\n\u001b[0;32m      2\u001b[0m \u001b[0mnum1\u001b[0m\u001b[1;33m.\u001b[0m\u001b[0mget_data\u001b[0m\u001b[1;33m(\u001b[0m\u001b[1;33m)\u001b[0m\u001b[1;33m\u001b[0m\u001b[1;33m\u001b[0m\u001b[0m\n\u001b[0;32m      3\u001b[0m \u001b[1;32mdel\u001b[0m \u001b[0mnum1\u001b[0m\u001b[1;33m.\u001b[0m\u001b[0mimag\u001b[0m\u001b[1;33m\u001b[0m\u001b[1;33m\u001b[0m\u001b[0m\n\u001b[1;32m----> 4\u001b[1;33m \u001b[0mnum1\u001b[0m\u001b[1;33m.\u001b[0m\u001b[0mget_data\u001b[0m\u001b[1;33m(\u001b[0m\u001b[1;33m)\u001b[0m\u001b[1;33m\u001b[0m\u001b[1;33m\u001b[0m\u001b[0m\n\u001b[0m",
      "\u001b[1;32m~\\AppData\\Local\\Temp/ipykernel_4068/2914305420.py\u001b[0m in \u001b[0;36mget_data\u001b[1;34m(self)\u001b[0m\n\u001b[0;32m      5\u001b[0m \u001b[1;33m\u001b[0m\u001b[0m\n\u001b[0;32m      6\u001b[0m     \u001b[1;32mdef\u001b[0m \u001b[0mget_data\u001b[0m\u001b[1;33m(\u001b[0m\u001b[0mself\u001b[0m\u001b[1;33m)\u001b[0m\u001b[1;33m:\u001b[0m\u001b[1;33m\u001b[0m\u001b[1;33m\u001b[0m\u001b[0m\n\u001b[1;32m----> 7\u001b[1;33m         \u001b[0mprint\u001b[0m\u001b[1;33m(\u001b[0m\u001b[1;34mf'{self.real}+{self.imag}j'\u001b[0m\u001b[1;33m)\u001b[0m\u001b[1;33m\u001b[0m\u001b[1;33m\u001b[0m\u001b[0m\n\u001b[0m\u001b[0;32m      8\u001b[0m \u001b[1;33m\u001b[0m\u001b[0m\n\u001b[0;32m      9\u001b[0m \u001b[0mnum1\u001b[0m \u001b[1;33m=\u001b[0m \u001b[0mComplexNumber\u001b[0m\u001b[1;33m(\u001b[0m\u001b[1;36m2\u001b[0m\u001b[1;33m,\u001b[0m \u001b[1;36m3\u001b[0m\u001b[1;33m)\u001b[0m \u001b[1;31m#creating obj\u001b[0m\u001b[1;33m\u001b[0m\u001b[1;33m\u001b[0m\u001b[0m\n",
      "\u001b[1;31mAttributeError\u001b[0m: 'ComplexNumber' object has no attribute 'imag'"
     ]
    }
   ],
   "source": [
    "num1 = ComplexNumber(2,3)\n",
    "num1.get_data() #gets the complex number\n",
    "del num1.imag\n",
    "num1.get_data() #deletes the complex number"
   ]
  },
  {
   "cell_type": "code",
   "execution_count": 20,
   "id": "eba6a761",
   "metadata": {},
   "outputs": [
    {
     "name": "stdout",
     "output_type": "stream",
     "text": [
      "I can bark\n",
      "I can eat\n"
     ]
    }
   ],
   "source": [
    "class Animal:\n",
    "    def eat(self):\n",
    "        print(\"I can eat\")\n",
    "        \n",
    "class Dog(Animal):\n",
    "    def bark(self):\n",
    "        print(\"I can bark\")\n",
    "\n",
    "dog1 = Dog()\n",
    "\n",
    "dog1.bark()\n",
    "dog1.eat()"
   ]
  },
  {
   "cell_type": "code",
   "execution_count": 21,
   "id": "cf3cc0d8",
   "metadata": {},
   "outputs": [
    {
     "name": "stdout",
     "output_type": "stream",
     "text": [
      "I can bark\n",
      "I can eat\n",
      "I can eat\n"
     ]
    }
   ],
   "source": [
    "class Animal:\n",
    "    def eat(self):\n",
    "        print(\"I can eat\")\n",
    "        \n",
    "class Dog(Animal):\n",
    "    def bark(self):\n",
    "        print(\"I can bark\")\n",
    "\n",
    "class Cat(Animal):\n",
    "    def get_grumpy(self):\n",
    "        print(\"I am getting grumpy.\")\n",
    "\n",
    "dog1 = Dog()\n",
    "\n",
    "dog1.bark()\n",
    "dog1.eat()\n",
    "\n",
    "cat1 = Cat()\n",
    "cat1.eat()"
   ]
  },
  {
   "cell_type": "markdown",
   "id": "6e44ddb9",
   "metadata": {},
   "source": [
    "# Polygon"
   ]
  },
  {
   "cell_type": "code",
   "execution_count": 27,
   "id": "0df7f08d",
   "metadata": {},
   "outputs": [
    {
     "name": "stdout",
     "output_type": "stream",
     "text": [
      "Perimeter: 18\n",
      "A triangle is a polygon with 3 edges\n",
      "A polygon is a two dimensional shape with straight lines\n"
     ]
    }
   ],
   "source": [
    "class Polygon:\n",
    "    def __init__(self, sides):\n",
    "        self.sides = sides\n",
    "\n",
    "    def display_info(self):\n",
    "        print(\"A polygon is a two dimensional shape with straight lines\")\n",
    "\n",
    "    def get_perimeter(self):\n",
    "        perimeter = sum(self.sides)\n",
    "        return perimeter\n",
    "class Triangle(Polygon):\n",
    "    def display_info(self):\n",
    "        print(\"A triangle is a polygon with 3 edges\")\n",
    "        Polygon.display_info(self) #returns from base\n",
    "        super().display_info() #we can also write like this\n",
    "\n",
    "\n",
    "class Quadrilateral(Polygon):\n",
    "    def display_info(self):\n",
    "        print(\"A quadrilateral is a polygon with 4 edges\")\n",
    "t1 = Triangle([5, 6, 7])\n",
    "perimeter = t1.get_perimeter()\n",
    "print(\"Perimeter:\", perimeter)\n",
    "perimeter = t1.display_info() #perimeter of triangle is sum of sides"
   ]
  },
  {
   "cell_type": "code",
   "execution_count": 39,
   "id": "39b44497",
   "metadata": {},
   "outputs": [
    {
     "name": "stdout",
     "output_type": "stream",
     "text": [
      "Enter side 1 : 2\n",
      "Enter side 2 : 3\n",
      "Enter side 3 : 4\n",
      "Side 1 is 2.0\n",
      "Side 2 is 3.0\n",
      "Side 3 is 4.0\n",
      "The area of the triangle is 2.90\n"
     ]
    },
    {
     "data": {
      "text/plain": [
       "False"
      ]
     },
     "execution_count": 39,
     "metadata": {},
     "output_type": "execute_result"
    }
   ],
   "source": [
    "class Polygon:\n",
    "    def __init__(self, no_of_sides):\n",
    "        self.n = no_of_sides\n",
    "        self.sides = [0 for i in range(no_of_sides)]\n",
    "\n",
    "    def inputSides(self):\n",
    "        self.sides = [float(input(\"Enter side \"+str(i+1)+\" : \")) for i in range(self.n)]\n",
    "\n",
    "    def dispSides(self):\n",
    "        for i in range(self.n):\n",
    "            print(\"Side\",i+1,\"is\",self.sides[i])\n",
    "class Triangle(Polygon):\n",
    "    def __init__(self):\n",
    "        Polygon.__init__(self,3)\n",
    "\n",
    "    def findArea(self):\n",
    "        a, b, c = self.sides\n",
    "        # calculate the semi-perimeter\n",
    "        s = (a + b + c) / 2\n",
    "        area = (s*(s-a)*(s-b)*(s-c)) ** 0.5\n",
    "        print('The area of the triangle is %0.2f' %area)\n",
    "t = Triangle()\n",
    "t.inputSides()\n",
    "t.dispSides()\n",
    "t.findArea()\n",
    "issubclass(Polygon,Triangle) #checks for class inheritance\n",
    "isinstance(t,Polygon) #checks instance of class"
   ]
  },
  {
   "cell_type": "code",
   "execution_count": 40,
   "id": "8a2528fd",
   "metadata": {},
   "outputs": [
    {
     "name": "stdout",
     "output_type": "stream",
     "text": [
      "[<class '__main__.M'>, <class '__main__.B'>, <class '__main__.A'>, <class '__main__.X'>, <class '__main__.Y'>, <class '__main__.Z'>, <class 'object'>]\n"
     ]
    }
   ],
   "source": [
    "\n",
    "class X:\n",
    "    pass\n",
    "class Y:\n",
    "    pass\n",
    "class Z:\n",
    "    pass\n",
    "class A(X, Y):\n",
    "    pass\n",
    "class B(Y, Z):\n",
    "    pass\n",
    "class M(B, A, Z):\n",
    "    pass\n",
    "\n",
    "print(M.mro()) #Method Resolution Order returns the order of inheritance [Multiderived,base1,base2,object]"
   ]
  },
  {
   "cell_type": "code",
   "execution_count": 41,
   "id": "048fe4ac",
   "metadata": {},
   "outputs": [
    {
     "name": "stdout",
     "output_type": "stream",
     "text": [
      "(3,5)\n"
     ]
    }
   ],
   "source": [
    "class Point:\n",
    "    def __init__(self, x=0, y=0):\n",
    "        self.x = x\n",
    "        self.y = y\n",
    "\n",
    "    def __str__(self):\n",
    "        return \"({0},{1})\".format(self.x, self.y)\n",
    "\n",
    "    def __add__(self, other):\n",
    "        x = self.x + other.x\n",
    "        y = self.y + other.y\n",
    "        return Point(x, y)\n",
    "\n",
    "\n",
    "p1 = Point(1, 2)\n",
    "p2 = Point(2, 3)\n",
    "\n",
    "print(p1+p2)"
   ]
  },
  {
   "cell_type": "code",
   "execution_count": 43,
   "id": "94ccbd32",
   "metadata": {},
   "outputs": [
    {
     "name": "stdout",
     "output_type": "stream",
     "text": [
      "True\n",
      "False\n",
      "False\n"
     ]
    }
   ],
   "source": [
    "# overloading the less than operator\n",
    "class Point:\n",
    "    def __init__(self, x=0, y=0):\n",
    "        self.x = x\n",
    "        self.y = y\n",
    "\n",
    "    def __str__(self):\n",
    "        return \"({0},{1})\".format(self.x, self.y)\n",
    "\n",
    "    def __lt__(self, other):\n",
    "        self_mag = (self.x ** 2) + (self.y ** 2)\n",
    "        other_mag = (other.x ** 2) + (other.y ** 2)\n",
    "        return self_mag < other_mag\n",
    "\n",
    "p1 = Point(1,1)\n",
    "p2 = Point(-2,-3)\n",
    "p3 = Point(1,-1)\n",
    "\n",
    "# use less than\n",
    "print(p1<p2)\n",
    "print(p2<p3)\n",
    "print(p1<p3) #operator overloading allows same operator to have different meaning accordind to the context"
   ]
  }
 ],
 "metadata": {
  "kernelspec": {
   "display_name": "Python 3 (ipykernel)",
   "language": "python",
   "name": "python3"
  },
  "language_info": {
   "codemirror_mode": {
    "name": "ipython",
    "version": 3
   },
   "file_extension": ".py",
   "mimetype": "text/x-python",
   "name": "python",
   "nbconvert_exporter": "python",
   "pygments_lexer": "ipython3",
   "version": "3.9.7"
  }
 },
 "nbformat": 4,
 "nbformat_minor": 5
}
