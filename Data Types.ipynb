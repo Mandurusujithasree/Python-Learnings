{
 "cells": [
  {
   "cell_type": "markdown",
   "id": "40af1bc1",
   "metadata": {},
   "source": [
    "# Numeric Types"
   ]
  },
  {
   "cell_type": "code",
   "execution_count": 6,
   "id": "808e24c5",
   "metadata": {},
   "outputs": [
    {
     "name": "stdout",
     "output_type": "stream",
     "text": [
      "<class 'int'>\n",
      "<class 'float'>\n",
      "<class 'complex'>\n",
      "True\n"
     ]
    }
   ],
   "source": [
    "a = 5\n",
    "b = 9.89\n",
    "c = 4+6j\n",
    "print(type(a)) # type() is used to know datatype of variable\n",
    "print(type(b))\n",
    "print(type(c))\n",
    "print(isinstance(a,int)) # isinstance() method is used to know whether particular variable is belongs to datatype or not"
   ]
  },
  {
   "cell_type": "code",
   "execution_count": 4,
   "id": "8b157a9a",
   "metadata": {},
   "outputs": [
    {
     "name": "stdout",
     "output_type": "stream",
     "text": [
      "53\n",
      "2419\n",
      "15582\n"
     ]
    }
   ],
   "source": [
    "print(0b110101) # binary number start with '0b'\n",
    "print(0o4563) # octal number start with '0o'\n",
    "print(0x3cde) # hexa decimal number start with '0x'"
   ]
  },
  {
   "cell_type": "markdown",
   "id": "10773073",
   "metadata": {},
   "source": [
    "# Type Conversion"
   ]
  },
  {
   "cell_type": "code",
   "execution_count": 7,
   "id": "037863dd",
   "metadata": {},
   "outputs": [
    {
     "name": "stdout",
     "output_type": "stream",
     "text": [
      "3.3\n"
     ]
    }
   ],
   "source": [
    "print(1+2.3) #automatically converts int to float - Coercion"
   ]
  },
  {
   "cell_type": "code",
   "execution_count": 11,
   "id": "7dce3b21",
   "metadata": {},
   "outputs": [
    {
     "name": "stdout",
     "output_type": "stream",
     "text": [
      "5.6\n",
      "(4.566+0j)\n",
      "5\n"
     ]
    }
   ],
   "source": [
    "a = int(5.6776)\n",
    "b = complex(4.566) # int(),complex(),float() are built-in functions to convert\n",
    "c = float(5.6)\n",
    "print(c)\n",
    "print(b)\n",
    "print(a)"
   ]
  },
  {
   "cell_type": "code",
   "execution_count": 12,
   "id": "e2440e18",
   "metadata": {},
   "outputs": [
    {
     "name": "stdout",
     "output_type": "stream",
     "text": [
      "0.1\n",
      "0.1000000000000000055511151231257827021181583404541015625\n"
     ]
    }
   ],
   "source": [
    "import decimal\n",
    "print(0.1)\n",
    "print(decimal.Decimal(0.1)) # to get more than 15 decimal points"
   ]
  },
  {
   "cell_type": "code",
   "execution_count": 13,
   "id": "1bf693c0",
   "metadata": {},
   "outputs": [
    {
     "name": "stdout",
     "output_type": "stream",
     "text": [
      "12.3\n"
     ]
    }
   ],
   "source": [
    "a = 4.5+7.8\n",
    "print(a)"
   ]
  },
  {
   "cell_type": "markdown",
   "id": "663d0dab",
   "metadata": {},
   "source": [
    "# Fractions"
   ]
  },
  {
   "cell_type": "code",
   "execution_count": 18,
   "id": "c4d96182",
   "metadata": {},
   "outputs": [
    {
     "name": "stdout",
     "output_type": "stream",
     "text": [
      "3/2\n",
      "1/3\n",
      "4\n"
     ]
    }
   ],
   "source": [
    "import fractions\n",
    "print(fractions.Fraction(1.5))\n",
    "print(fractions.Fraction(1,3))\n",
    "print(fractions.Fraction(4))# is used to find fraction of particular number"
   ]
  },
  {
   "cell_type": "code",
   "execution_count": 19,
   "id": "65d2c2f0",
   "metadata": {},
   "outputs": [
    {
     "name": "stdout",
     "output_type": "stream",
     "text": [
      "2476979795053773/2251799813685248\n",
      "11/10\n"
     ]
    }
   ],
   "source": [
    "import fractions\n",
    "print(fractions.Fraction(1.1)) # here it gives different result with float and string\n",
    "print(fractions.Fraction('1.1')) # it occurs due to imperfect binary float number representation"
   ]
  },
  {
   "cell_type": "code",
   "execution_count": 21,
   "id": "60aad576",
   "metadata": {},
   "outputs": [
    {
     "name": "stdout",
     "output_type": "stream",
     "text": [
      "5/6\n",
      "False\n",
      "True\n"
     ]
    }
   ],
   "source": [
    "from fractions import Fraction as F\n",
    "print(F(1,3)+F(1,2))\n",
    "print(F(-1,3)>0)\n",
    "print(F(5/6)>0) # Here fraction does all the basic operations "
   ]
  },
  {
   "cell_type": "markdown",
   "id": "40fbb274",
   "metadata": {},
   "source": [
    "# Mathematics"
   ]
  },
  {
   "cell_type": "code",
   "execution_count": 25,
   "id": "cce8fda8",
   "metadata": {},
   "outputs": [
    {
     "name": "stdout",
     "output_type": "stream",
     "text": [
      "3.141592653589793\n",
      "-1.0\n",
      "22026.465794806718\n",
      "120\n",
      "10.017874927409903\n"
     ]
    }
   ],
   "source": [
    "import math\n",
    "print(math.pi)\n",
    "print(math.cos(math.pi))\n",
    "print(math.exp(10))\n",
    "print(math.factorial(5))\n",
    "print(math.sinh(3)) #mathematical values using math module "
   ]
  },
  {
   "cell_type": "markdown",
   "id": "e4f92f04",
   "metadata": {},
   "source": [
    "# Random"
   ]
  },
  {
   "cell_type": "code",
   "execution_count": 26,
   "id": "e2d0580e",
   "metadata": {},
   "outputs": [
    {
     "name": "stdout",
     "output_type": "stream",
     "text": [
      "12\n",
      "c\n",
      "['e', 'd', 'b', 'c', 'a']\n",
      "0.07851089750540752\n"
     ]
    }
   ],
   "source": [
    "import random\n",
    "\n",
    "print(random.randrange(10, 20))\n",
    "\n",
    "x = ['a', 'b', 'c', 'd', 'e']\n",
    "\n",
    "# Get random choice\n",
    "print(random.choice(x))\n",
    "\n",
    "# Shuffle x\n",
    "random.shuffle(x)\n",
    "\n",
    "# Print the shuffled x\n",
    "print(x)\n",
    "\n",
    "# Print random element\n",
    "print(random.random()) # gets random value from random value"
   ]
  },
  {
   "cell_type": "markdown",
   "id": "34469ab1",
   "metadata": {},
   "source": [
    "# Lists"
   ]
  },
  {
   "cell_type": "code",
   "execution_count": 29,
   "id": "c11484e8",
   "metadata": {},
   "outputs": [
    {
     "name": "stdout",
     "output_type": "stream",
     "text": [
      "3\n",
      "[1, 4, -6]\n"
     ]
    }
   ],
   "source": [
    "numbers = [1,4,-6]\n",
    "number = [1,3.4,\"Suzz\"]\n",
    "print(len(number))\n",
    "print(numbers)"
   ]
  },
  {
   "cell_type": "markdown",
   "id": "69cdbded",
   "metadata": {},
   "source": [
    "Accessing list"
   ]
  },
  {
   "cell_type": "code",
   "execution_count": 31,
   "id": "ce0bd908",
   "metadata": {},
   "outputs": [
    {
     "name": "stdout",
     "output_type": "stream",
     "text": [
      "['Java', 'Python', 'C', 'R', 'Anaconda']\n",
      "5\n",
      "C\n"
     ]
    },
    {
     "ename": "IndexError",
     "evalue": "list index out of range",
     "output_type": "error",
     "traceback": [
      "\u001b[1;31m---------------------------------------------------------------------------\u001b[0m",
      "\u001b[1;31mIndexError\u001b[0m                                Traceback (most recent call last)",
      "\u001b[1;32m~\\AppData\\Local\\Temp/ipykernel_15936/4053219577.py\u001b[0m in \u001b[0;36m<module>\u001b[1;34m\u001b[0m\n\u001b[0;32m      3\u001b[0m \u001b[0mprint\u001b[0m\u001b[1;33m(\u001b[0m\u001b[0mlen\u001b[0m\u001b[1;33m(\u001b[0m\u001b[0ma\u001b[0m\u001b[1;33m)\u001b[0m\u001b[1;33m)\u001b[0m\u001b[1;33m\u001b[0m\u001b[1;33m\u001b[0m\u001b[0m\n\u001b[0;32m      4\u001b[0m \u001b[0mprint\u001b[0m\u001b[1;33m(\u001b[0m\u001b[0ma\u001b[0m\u001b[1;33m[\u001b[0m\u001b[1;36m2\u001b[0m\u001b[1;33m]\u001b[0m\u001b[1;33m)\u001b[0m\u001b[1;33m\u001b[0m\u001b[1;33m\u001b[0m\u001b[0m\n\u001b[1;32m----> 5\u001b[1;33m \u001b[0mprint\u001b[0m\u001b[1;33m(\u001b[0m\u001b[0ma\u001b[0m\u001b[1;33m[\u001b[0m\u001b[1;36m5\u001b[0m\u001b[1;33m]\u001b[0m\u001b[1;33m)\u001b[0m\u001b[1;31m# accessing list elements through index\u001b[0m\u001b[1;33m\u001b[0m\u001b[1;33m\u001b[0m\u001b[0m\n\u001b[0m",
      "\u001b[1;31mIndexError\u001b[0m: list index out of range"
     ]
    }
   ],
   "source": [
    "a = [\"Java\",\"Python\",\"C\",\"R\",\"Anaconda\"]\n",
    "print(a)\n",
    "print(len(a))\n",
    "print(a[2])# accessing list elements through index\n",
    "print(a[5])#out of range"
   ]
  },
  {
   "cell_type": "markdown",
   "id": "b81331de",
   "metadata": {},
   "source": [
    "Slicing"
   ]
  },
  {
   "cell_type": "code",
   "execution_count": 38,
   "id": "072b5ad3",
   "metadata": {},
   "outputs": [
    {
     "name": "stdout",
     "output_type": "stream",
     "text": [
      "['Java', 'Python', 'C', 'R']\n",
      "['Java', 'Python', 'C']\n",
      "['Anaconda', 'R', 'C', 'Python', 'Java']\n"
     ]
    }
   ],
   "source": [
    "a = [\"Java\",\"Python\",\"C\",\"R\",\"Anaconda\"]\n",
    "print(a[:-1])\n",
    "print(a[0:3])#last element\n",
    "print(a[::-1]) #reverse of list"
   ]
  },
  {
   "cell_type": "code",
   "execution_count": 41,
   "id": "48e965c0",
   "metadata": {},
   "outputs": [
    {
     "name": "stdout",
     "output_type": "stream",
     "text": [
      "['Java', 'Python', 'Ruby', 'R', 'Anaconda']\n"
     ]
    }
   ],
   "source": [
    "a = [\"Java\",\"Python\",\"C\",\"R\",\"Anaconda\"]\n",
    "a[2] = \"Ruby\"\n",
    "print(a) #lists are mutable in python"
   ]
  },
  {
   "cell_type": "code",
   "execution_count": 44,
   "id": "2fd40bbf",
   "metadata": {},
   "outputs": [
    {
     "name": "stdout",
     "output_type": "stream",
     "text": [
      "True\n",
      "False\n"
     ]
    }
   ],
   "source": [
    "a = [\"Java\",\"Python\",\"C\",\"R\",\"Anaconda\"]\n",
    "print('Python' in a) #in is used whether it present or not\n",
    "print(\"suxx\" in a)"
   ]
  },
  {
   "cell_type": "code",
   "execution_count": 45,
   "id": "5acf1e75",
   "metadata": {},
   "outputs": [
    {
     "name": "stdout",
     "output_type": "stream",
     "text": [
      "Java\n",
      "Python\n",
      "C\n",
      "R\n",
      "Anaconda\n"
     ]
    }
   ],
   "source": [
    "a = [\"Java\",\"Python\",\"C\",\"R\",\"Anaconda\"]\n",
    "for i in a:\n",
    "    print(i) #iteration of every element in list"
   ]
  },
  {
   "cell_type": "code",
   "execution_count": 48,
   "id": "08fb3ad4",
   "metadata": {},
   "outputs": [
    {
     "name": "stdout",
     "output_type": "stream",
     "text": [
      "['Java', 'Python', 'Suzuki', 'R', 'Anaconda', 'Dart']\n"
     ]
    }
   ],
   "source": [
    "a = [\"Java\",\"Python\",\"C\",\"R\",\"Anaconda\"]\n",
    "a.append(\"Dart\") #append is used to add element in last \n",
    "a.insert(2,\"Suzuki\") #insert is used to insert element in particular index\n",
    "a.remove(\"C\") #removes the element from the list\n",
    "print(a)"
   ]
  },
  {
   "cell_type": "code",
   "execution_count": 49,
   "id": "303ef8c3",
   "metadata": {},
   "outputs": [
    {
     "name": "stdout",
     "output_type": "stream",
     "text": [
      "['Java', 'Python', 'C', 'R', 'Anaconda']\n"
     ]
    }
   ],
   "source": [
    "a = [\"Java\",\"Python\",\"C\",\"R\",\"Anaconda\"]\n",
    "b = a.copy() #copies the list\n",
    "print(b)"
   ]
  },
  {
   "cell_type": "markdown",
   "id": "f8743fd4",
   "metadata": {},
   "source": [
    "# Tuples"
   ]
  },
  {
   "cell_type": "code",
   "execution_count": 17,
   "id": "81b75094",
   "metadata": {},
   "outputs": [
    {
     "name": "stdout",
     "output_type": "stream",
     "text": [
      "(21, -5, 6, 9)\n",
      "6\n",
      "(-5, 6, 9)\n",
      "21\n",
      "-5\n",
      "6\n",
      "9\n"
     ]
    }
   ],
   "source": [
    "number = (21,-5,6,9)\n",
    "print(number)\n",
    "print(number[2]) #getting element through index value\n",
    "print(number[1:4])\n",
    "for i in number: # getting every element in list\n",
    "    print(i)"
   ]
  },
  {
   "cell_type": "code",
   "execution_count": 54,
   "id": "a5395fc3",
   "metadata": {},
   "outputs": [
    {
     "ename": "TypeError",
     "evalue": "'set' object does not support item assignment",
     "output_type": "error",
     "traceback": [
      "\u001b[1;31m---------------------------------------------------------------------------\u001b[0m",
      "\u001b[1;31mTypeError\u001b[0m                                 Traceback (most recent call last)",
      "\u001b[1;32m~\\AppData\\Local\\Temp/ipykernel_15936/987802701.py\u001b[0m in \u001b[0;36m<module>\u001b[1;34m\u001b[0m\n\u001b[1;32m----> 1\u001b[1;33m \u001b[0mnumber\u001b[0m\u001b[1;33m[\u001b[0m\u001b[1;36m0\u001b[0m\u001b[1;33m]\u001b[0m \u001b[1;33m=\u001b[0m \u001b[1;36m34\u001b[0m\u001b[1;33m\u001b[0m\u001b[1;33m\u001b[0m\u001b[0m\n\u001b[0m\u001b[0;32m      2\u001b[0m \u001b[0mprint\u001b[0m\u001b[1;33m(\u001b[0m\u001b[0mnumber\u001b[0m\u001b[1;33m)\u001b[0m\u001b[1;33m\u001b[0m\u001b[1;33m\u001b[0m\u001b[0m\n",
      "\u001b[1;31mTypeError\u001b[0m: 'set' object does not support item assignment"
     ]
    }
   ],
   "source": [
    "number[0] = 34\n",
    "print(number) #tuples are immutable and no methods are there in tuple like remove,append,insert"
   ]
  },
  {
   "cell_type": "code",
   "execution_count": 55,
   "id": "b5b0d228",
   "metadata": {},
   "outputs": [
    {
     "name": "stdout",
     "output_type": "stream",
     "text": [
      "1. True\n",
      "2. ['Hello', 'Hi', 'Java', 'True']\n"
     ]
    },
    {
     "ename": "TypeError",
     "evalue": "'set' object does not support item assignment",
     "output_type": "error",
     "traceback": [
      "\u001b[1;31m---------------------------------------------------------------------------\u001b[0m",
      "\u001b[1;31mTypeError\u001b[0m                                 Traceback (most recent call last)",
      "\u001b[1;32m~\\AppData\\Local\\Temp/ipykernel_15936/3843326334.py\u001b[0m in \u001b[0;36m<module>\u001b[1;34m\u001b[0m\n\u001b[0;32m      4\u001b[0m \u001b[0mprint\u001b[0m\u001b[1;33m(\u001b[0m\u001b[1;34m\"2.\"\u001b[0m\u001b[1;33m,\u001b[0m\u001b[0mmixed_list\u001b[0m\u001b[1;33m)\u001b[0m\u001b[1;33m\u001b[0m\u001b[1;33m\u001b[0m\u001b[0m\n\u001b[0;32m      5\u001b[0m \u001b[0mmixed_tuple\u001b[0m \u001b[1;33m=\u001b[0m \u001b[1;33m{\u001b[0m\u001b[1;36m1\u001b[0m\u001b[1;33m,\u001b[0m\u001b[1;36m3\u001b[0m\u001b[1;33m,\u001b[0m\u001b[1;36m4\u001b[0m\u001b[1;33m,\u001b[0m\u001b[1;36m5\u001b[0m\u001b[1;33m}\u001b[0m\u001b[1;33m\u001b[0m\u001b[1;33m\u001b[0m\u001b[0m\n\u001b[1;32m----> 6\u001b[1;33m \u001b[0mmixed_tuple\u001b[0m\u001b[1;33m[\u001b[0m\u001b[1;36m0\u001b[0m\u001b[1;33m]\u001b[0m \u001b[1;33m=\u001b[0m \u001b[1;36m100\u001b[0m\u001b[1;33m\u001b[0m\u001b[1;33m\u001b[0m\u001b[0m\n\u001b[0m\u001b[0;32m      7\u001b[0m \u001b[0mprint\u001b[0m\u001b[1;33m(\u001b[0m\u001b[1;34m\"3.\"\u001b[0m\u001b[1;33m,\u001b[0m\u001b[0mmixed_tuple\u001b[0m\u001b[1;33m)\u001b[0m\u001b[1;33m\u001b[0m\u001b[1;33m\u001b[0m\u001b[0m\n",
      "\u001b[1;31mTypeError\u001b[0m: 'set' object does not support item assignment"
     ]
    }
   ],
   "source": [
    "mixed_list = [\"Hello\",-34,\"Java\",\"True\"]\n",
    "print(\"1.\",mixed_list[-1])\n",
    "mixed_list[1]=\"Hi\"\n",
    "print(\"2.\",mixed_list)\n",
    "mixed_tuple = {1,3,4,5}\n",
    "mixed_tuple[0] = 100\n",
    "print(\"3.\",mixed_tuple) #immutable"
   ]
  },
  {
   "cell_type": "code",
   "execution_count": 56,
   "id": "9aa49820",
   "metadata": {},
   "outputs": [
    {
     "name": "stdout",
     "output_type": "stream",
     "text": [
      "p\n",
      "o\n",
      "e\n",
      "a\n",
      "5\n"
     ]
    },
    {
     "ename": "TypeError",
     "evalue": "list indices must be integers or slices, not float",
     "output_type": "error",
     "traceback": [
      "\u001b[1;31m---------------------------------------------------------------------------\u001b[0m",
      "\u001b[1;31mTypeError\u001b[0m                                 Traceback (most recent call last)",
      "\u001b[1;32m~\\AppData\\Local\\Temp/ipykernel_15936/3349695461.py\u001b[0m in \u001b[0;36m<module>\u001b[1;34m\u001b[0m\n\u001b[0;32m     19\u001b[0m \u001b[1;33m\u001b[0m\u001b[0m\n\u001b[0;32m     20\u001b[0m \u001b[1;31m# Error! Only integer can be used for indexing\u001b[0m\u001b[1;33m\u001b[0m\u001b[1;33m\u001b[0m\u001b[0m\n\u001b[1;32m---> 21\u001b[1;33m \u001b[0mprint\u001b[0m\u001b[1;33m(\u001b[0m\u001b[0mmy_list\u001b[0m\u001b[1;33m[\u001b[0m\u001b[1;36m4.0\u001b[0m\u001b[1;33m]\u001b[0m\u001b[1;33m)\u001b[0m\u001b[1;33m\u001b[0m\u001b[1;33m\u001b[0m\u001b[0m\n\u001b[0m",
      "\u001b[1;31mTypeError\u001b[0m: list indices must be integers or slices, not float"
     ]
    }
   ],
   "source": [
    "my_list = ['p', 'r', 'o', 'b', 'e']\n",
    "\n",
    "# first item\n",
    "print(my_list[0])  # p\n",
    "\n",
    "# third item\n",
    "print(my_list[2])  # o\n",
    "\n",
    "# fifth item\n",
    "print(my_list[4])  # e\n",
    "\n",
    "# Nested List\n",
    "n_list = [\"Happy\", [2, 0, 1, 5]]\n",
    "\n",
    "# Nested indexing\n",
    "print(n_list[0][1])\n",
    "\n",
    "print(n_list[1][3])\n",
    "\n",
    "# Error! Only integer can be used for indexing\n",
    "print(my_list[4.0])"
   ]
  },
  {
   "cell_type": "code",
   "execution_count": 59,
   "id": "ad314205",
   "metadata": {},
   "outputs": [
    {
     "name": "stdout",
     "output_type": "stream",
     "text": [
      "['o', 'g', 'r']\n",
      "['a', 'm', 'i', 'z']\n",
      "['p', 'r', 'o', 'g', 'r', 'a', 'm', 'i', 'z']\n",
      "['p', 'r', 'o', 'g', 'r', 'a', 'm', 'i', 'z', 67, 89, 6]\n"
     ]
    }
   ],
   "source": [
    "# List slicing in Python\n",
    "\n",
    "my_list = ['p','r','o','g','r','a','m','i','z']\n",
    "\n",
    "# elements from index 2 to index 4\n",
    "print(my_list[2:5])\n",
    "\n",
    "# elements from index 5 to end\n",
    "print(my_list[5:])\n",
    "\n",
    "# elements beginning to end\n",
    "print(my_list[:])\n",
    "my_list.extend([67,89,6])\n",
    "print(my_list)"
   ]
  },
  {
   "cell_type": "code",
   "execution_count": 63,
   "id": "980bf250",
   "metadata": {},
   "outputs": [
    {
     "name": "stdout",
     "output_type": "stream",
     "text": [
      "[2, 45, 77, 4, 45, 2, 45, 77, 4, 45]\n",
      "[2, 45, 77, 4, 45, 3, 43, 1]\n",
      "['suji', 'suji', 'suji']\n"
     ]
    }
   ],
   "source": [
    "a = [2,45,77,4,45]\n",
    "print(a*2)\n",
    "print(a+[3,43,1]) #concatenation occurs in list\n",
    "print([\"suji\"]*3)"
   ]
  },
  {
   "cell_type": "code",
   "execution_count": 64,
   "id": "9a3a2b5c",
   "metadata": {},
   "outputs": [
    {
     "name": "stdout",
     "output_type": "stream",
     "text": [
      "2\n"
     ]
    }
   ],
   "source": [
    "print(a.count(45)) #counts the element"
   ]
  },
  {
   "cell_type": "markdown",
   "id": "278d4fab",
   "metadata": {},
   "source": [
    "List Comprehension"
   ]
  },
  {
   "cell_type": "code",
   "execution_count": 66,
   "id": "bf8ddba6",
   "metadata": {},
   "outputs": [
    {
     "name": "stdout",
     "output_type": "stream",
     "text": [
      "[1, 2, 4, 8, 16, 32, 64, 128, 256, 512]\n"
     ]
    }
   ],
   "source": [
    "pow2 = [2**x for x in range(10)]\n",
    "print(pow2)"
   ]
  },
  {
   "cell_type": "code",
   "execution_count": 68,
   "id": "8c6598fd",
   "metadata": {},
   "outputs": [
    {
     "name": "stdout",
     "output_type": "stream",
     "text": [
      "[64, 128, 256, 512]\n",
      "[1, 4, 16, 64, 256]\n"
     ]
    }
   ],
   "source": [
    "pow3 = [2**x for x in range(10) if x>5]\n",
    "pow4 = [2**x for x in range(10) if x%2==0]\n",
    "print(pow3)\n",
    "print(pow4)"
   ]
  },
  {
   "cell_type": "code",
   "execution_count": 15,
   "id": "a8c78180",
   "metadata": {},
   "outputs": [
    {
     "name": "stdout",
     "output_type": "stream",
     "text": [
      "23 * 1 = 23\n",
      "23 * 2 = 46\n",
      "23 * 3 = 69\n",
      "23 * 4 = 92\n",
      "23 * 5 = 115\n",
      "23 * 6 = 138\n",
      "23 * 7 = 161\n",
      "23 * 8 = 184\n",
      "23 * 9 = 207\n",
      "23 * 10 = 230\n"
     ]
    }
   ],
   "source": [
    "num=23\n",
    "for i in range(1,11):\n",
    "    product = num*i\n",
    "    print(num,\"*\",i,\"=\",product)"
   ]
  },
  {
   "cell_type": "code",
   "execution_count": 19,
   "id": "45f90dfc",
   "metadata": {},
   "outputs": [
    {
     "name": "stdout",
     "output_type": "stream",
     "text": [
      "(3, 56, 78, 3, 56, 78, 3, 56, 78) (3, 56, 78, 3, 56, 78)\n"
     ]
    }
   ],
   "source": [
    "tuple1 = (3,56,78)\n",
    "print(tuple1*3,tuple1+tuple1) #concatenation,repeat operations "
   ]
  },
  {
   "cell_type": "code",
   "execution_count": 21,
   "id": "ea896b22",
   "metadata": {},
   "outputs": [
    {
     "ename": "NameError",
     "evalue": "name 'tuple1' is not defined",
     "output_type": "error",
     "traceback": [
      "\u001b[1;31m---------------------------------------------------------------------------\u001b[0m",
      "\u001b[1;31mNameError\u001b[0m                                 Traceback (most recent call last)",
      "\u001b[1;32m~\\AppData\\Local\\Temp/ipykernel_3092/503489237.py\u001b[0m in \u001b[0;36m<module>\u001b[1;34m\u001b[0m\n\u001b[1;32m----> 1\u001b[1;33m \u001b[1;32mdel\u001b[0m \u001b[0mtuple1\u001b[0m\u001b[1;33m\u001b[0m\u001b[1;33m\u001b[0m\u001b[0m\n\u001b[0m\u001b[0;32m      2\u001b[0m \u001b[0mprint\u001b[0m\u001b[1;33m(\u001b[0m\u001b[0mtuple1\u001b[0m\u001b[1;33m)\u001b[0m\u001b[1;33m\u001b[0m\u001b[1;33m\u001b[0m\u001b[0m\n",
      "\u001b[1;31mNameError\u001b[0m: name 'tuple1' is not defined"
     ]
    }
   ],
   "source": [
    "del tuple1 #deleting tuple using del keyword\n",
    "print(tuple1)"
   ]
  },
  {
   "cell_type": "code",
   "execution_count": 25,
   "id": "ce453d40",
   "metadata": {},
   "outputs": [
    {
     "name": "stdout",
     "output_type": "stream",
     "text": [
      "4\n",
      "3\n",
      "1\n",
      "0\n"
     ]
    }
   ],
   "source": [
    "s = (3,5,7,89,5,5,7,4,7,4,7,3,3,3)\n",
    "print(s.count(3))\n",
    "print(s.count(5))\n",
    "print(s.index(5))\n",
    "print(s.index(3)) #methods in tuple"
   ]
  },
  {
   "cell_type": "code",
   "execution_count": 27,
   "id": "dee46729",
   "metadata": {},
   "outputs": [
    {
     "name": "stdout",
     "output_type": "stream",
     "text": [
      "True\n",
      "False\n"
     ]
    }
   ],
   "source": [
    "print(3 in s)\n",
    "print(89 not in s) #membership operations"
   ]
  },
  {
   "cell_type": "code",
   "execution_count": 28,
   "id": "31603819",
   "metadata": {},
   "outputs": [
    {
     "name": "stdout",
     "output_type": "stream",
     "text": [
      "Hello Suji\n",
      "Hello Sumo\n"
     ]
    }
   ],
   "source": [
    "for i in (\"Suji\",\"Sumo\"):\n",
    "    print(\"Hello\",i) #iteration through tuples"
   ]
  },
  {
   "cell_type": "markdown",
   "id": "bc7640cb",
   "metadata": {},
   "source": [
    "# Strings"
   ]
  },
  {
   "cell_type": "code",
   "execution_count": 35,
   "id": "b40d89d5",
   "metadata": {},
   "outputs": [
    {
     "name": "stdout",
     "output_type": "stream",
     "text": [
      "hello, \"what's up!\"\n"
     ]
    }
   ],
   "source": [
    "sun = \"hello, \\\"what\\'s up!\\\"\"\n",
    "print(sun)"
   ]
  },
  {
   "cell_type": "code",
   "execution_count": 40,
   "id": "59993f7c",
   "metadata": {},
   "outputs": [
    {
     "name": "stdout",
     "output_type": "stream",
     "text": [
      "P\n",
      "Python\n",
      "nohtyP\n",
      "n\n",
      "yth\n"
     ]
    }
   ],
   "source": [
    "text = \"Python\"\n",
    "print(text[0])\n",
    "print(text[0:])\n",
    "print(text[::-1])\n",
    "print(text[-1])\n",
    "print(text[1:4])#accessing elements using index"
   ]
  },
  {
   "cell_type": "code",
   "execution_count": 41,
   "id": "2a8a068e",
   "metadata": {},
   "outputs": [
    {
     "ename": "TypeError",
     "evalue": "'str' object does not support item assignment",
     "output_type": "error",
     "traceback": [
      "\u001b[1;31m---------------------------------------------------------------------------\u001b[0m",
      "\u001b[1;31mTypeError\u001b[0m                                 Traceback (most recent call last)",
      "\u001b[1;32m~\\AppData\\Local\\Temp/ipykernel_3092/4057275512.py\u001b[0m in \u001b[0;36m<module>\u001b[1;34m\u001b[0m\n\u001b[1;32m----> 1\u001b[1;33m \u001b[0mtext\u001b[0m\u001b[1;33m[\u001b[0m\u001b[1;36m0\u001b[0m\u001b[1;33m]\u001b[0m \u001b[1;33m=\u001b[0m \u001b[1;34m\"r\"\u001b[0m\u001b[1;33m\u001b[0m\u001b[1;33m\u001b[0m\u001b[0m\n\u001b[0m\u001b[0;32m      2\u001b[0m \u001b[0mprint\u001b[0m\u001b[1;33m(\u001b[0m\u001b[0mtext\u001b[0m\u001b[1;33m)\u001b[0m\u001b[1;33m\u001b[0m\u001b[1;33m\u001b[0m\u001b[0m\n",
      "\u001b[1;31mTypeError\u001b[0m: 'str' object does not support item assignment"
     ]
    }
   ],
   "source": [
    "text[0] = \"r\"\n",
    "print(text) #strings are immutable"
   ]
  },
  {
   "cell_type": "code",
   "execution_count": 48,
   "id": "9963398b",
   "metadata": {},
   "outputs": [
    {
     "name": "stdout",
     "output_type": "stream",
     "text": [
      "PythonPython\n",
      "Python Java\n"
     ]
    }
   ],
   "source": [
    "print(text*2)\n",
    "text1 = \"Java\"\n",
    "res = text + \" \" + text1\n",
    "print(res)#string operations - concatenation,repeat"
   ]
  },
  {
   "cell_type": "code",
   "execution_count": 52,
   "id": "d79c490d",
   "metadata": {},
   "outputs": [
    {
     "name": "stdout",
     "output_type": "stream",
     "text": [
      "P\n",
      "y\n",
      "t\n",
      "h\n",
      "o\n",
      "n\n",
      "6\n",
      "True\n",
      "True\n"
     ]
    }
   ],
   "source": [
    "for char in text: #iteration in strings\n",
    "    print(char)\n",
    "print(len(text))\n",
    "print(\"P\" in text)\n",
    "print(\"yth\" in text) # Membership operator"
   ]
  },
  {
   "cell_type": "code",
   "execution_count": 56,
   "id": "b7933aee",
   "metadata": {},
   "outputs": [
    {
     "name": "stdout",
     "output_type": "stream",
     "text": [
      "1\n",
      "0\n",
      "python\n",
      "PYTHON\n"
     ]
    }
   ],
   "source": [
    "print(text.count(\"P\"))\n",
    "print(text.index(\"P\"))\n",
    "print(text.lower())\n",
    "print(text.upper()) #string methods"
   ]
  },
  {
   "cell_type": "code",
   "execution_count": 58,
   "id": "37928658",
   "metadata": {},
   "outputs": [
    {
     "name": "stdout",
     "output_type": "stream",
     "text": [
      "I like Java\n"
     ]
    }
   ],
   "source": [
    "text1 = \"I like Python\"\n",
    "print(text1.replace(\"Python\",\"Java\"))"
   ]
  },
  {
   "cell_type": "code",
   "execution_count": 62,
   "id": "807153b7",
   "metadata": {},
   "outputs": [
    {
     "name": "stdout",
     "output_type": "stream",
     "text": [
      "1. k\n",
      "2. d\n",
      "3. Talk is cheap.Show me Program.\n"
     ]
    }
   ],
   "source": [
    "quote = \"Talk is cheap.Show me code.\"\n",
    "print(\"1.\",quote[3])\n",
    "print(\"2.\",quote[-3])\n",
    "print(\"3.\",quote.replace(\"code\",\"Program\"))"
   ]
  },
  {
   "cell_type": "code",
   "execution_count": 65,
   "id": "a75453dc",
   "metadata": {},
   "outputs": [
    {
     "ename": "TypeError",
     "evalue": "'str' object does not support item assignment",
     "output_type": "error",
     "traceback": [
      "\u001b[1;31m---------------------------------------------------------------------------\u001b[0m",
      "\u001b[1;31mTypeError\u001b[0m                                 Traceback (most recent call last)",
      "\u001b[1;32m~\\AppData\\Local\\Temp/ipykernel_3092/2831863345.py\u001b[0m in \u001b[0;36m<module>\u001b[1;34m\u001b[0m\n\u001b[0;32m      1\u001b[0m \u001b[0mvar\u001b[0m \u001b[1;33m=\u001b[0m \u001b[1;34m\"Suji\"\u001b[0m\u001b[1;33m\u001b[0m\u001b[1;33m\u001b[0m\u001b[0m\n\u001b[1;32m----> 2\u001b[1;33m \u001b[0mvar\u001b[0m\u001b[1;33m[\u001b[0m\u001b[1;36m0\u001b[0m\u001b[1;33m]\u001b[0m \u001b[1;33m=\u001b[0m \u001b[1;34m\"R\"\u001b[0m \u001b[1;31m#strings are immutable .so we can replace value using same variable name.\u001b[0m\u001b[1;33m\u001b[0m\u001b[1;33m\u001b[0m\u001b[0m\n\u001b[0m\u001b[0;32m      3\u001b[0m \u001b[0mprint\u001b[0m\u001b[1;33m(\u001b[0m\u001b[0mvar\u001b[0m\u001b[1;33m)\u001b[0m\u001b[1;33m\u001b[0m\u001b[1;33m\u001b[0m\u001b[0m\n\u001b[0;32m      4\u001b[0m \u001b[0mvar\u001b[0m \u001b[1;33m=\u001b[0m \u001b[1;34m\"Kangro\"\u001b[0m\u001b[1;33m\u001b[0m\u001b[1;33m\u001b[0m\u001b[0m\n\u001b[0;32m      5\u001b[0m \u001b[0mprint\u001b[0m\u001b[1;33m(\u001b[0m\u001b[0mvar\u001b[0m\u001b[1;33m)\u001b[0m\u001b[1;33m\u001b[0m\u001b[1;33m\u001b[0m\u001b[0m\n",
      "\u001b[1;31mTypeError\u001b[0m: 'str' object does not support item assignment"
     ]
    }
   ],
   "source": [
    "var = \"Suji\"\n",
    "var[0] = \"R\" #strings are immutable .so we can replace value using same variable name.\n",
    "print(var)\n",
    "var = \"Kangro\"\n",
    "print(var)"
   ]
  },
  {
   "cell_type": "code",
   "execution_count": 66,
   "id": "60cb512a",
   "metadata": {},
   "outputs": [
    {
     "ename": "NameError",
     "evalue": "name 'var' is not defined",
     "output_type": "error",
     "traceback": [
      "\u001b[1;31m---------------------------------------------------------------------------\u001b[0m",
      "\u001b[1;31mNameError\u001b[0m                                 Traceback (most recent call last)",
      "\u001b[1;32m~\\AppData\\Local\\Temp/ipykernel_3092/4145210462.py\u001b[0m in \u001b[0;36m<module>\u001b[1;34m\u001b[0m\n\u001b[0;32m      1\u001b[0m \u001b[1;32mdel\u001b[0m \u001b[0mvar\u001b[0m\u001b[1;33m\u001b[0m\u001b[1;33m\u001b[0m\u001b[0m\n\u001b[1;32m----> 2\u001b[1;33m \u001b[0mprint\u001b[0m\u001b[1;33m(\u001b[0m\u001b[0mvar\u001b[0m\u001b[1;33m)\u001b[0m\u001b[1;33m\u001b[0m\u001b[1;33m\u001b[0m\u001b[0m\n\u001b[0m",
      "\u001b[1;31mNameError\u001b[0m: name 'var' is not defined"
     ]
    }
   ],
   "source": [
    "del var\n",
    "print(var) #deleting string "
   ]
  },
  {
   "cell_type": "code",
   "execution_count": 69,
   "id": "c2624aad",
   "metadata": {},
   "outputs": [
    {
     "name": "stdout",
     "output_type": "stream",
     "text": [
      "3 letters found\n"
     ]
    }
   ],
   "source": [
    "count = 0\n",
    "for i in \"Hello World\":\n",
    "    if(i == 'l'):\n",
    "        count = count + 1\n",
    "print(count,\"letters found\") #iteration through string"
   ]
  },
  {
   "cell_type": "code",
   "execution_count": 72,
   "id": "90b17adf",
   "metadata": {},
   "outputs": [
    {
     "name": "stdout",
     "output_type": "stream",
     "text": [
      "True\n",
      "False\n",
      "True\n"
     ]
    }
   ],
   "source": [
    "word = \"Good Morning\"\n",
    "print(\"M\" in word)\n",
    "print(\"oot\" in word)\n",
    "print(\"oot\" not in word) #membership operation"
   ]
  },
  {
   "cell_type": "code",
   "execution_count": 79,
   "id": "dc603dbf",
   "metadata": {},
   "outputs": [
    {
     "name": "stdout",
     "output_type": "stream",
     "text": [
      "(0, 'G')\n",
      "(1, 'o')\n",
      "(2, 'o')\n",
      "(3, 'd')\n",
      "(4, ' ')\n",
      "(5, 'M')\n",
      "(6, 'o')\n",
      "(7, 'r')\n",
      "(8, 'n')\n",
      "(9, 'i')\n",
      "(10, 'n')\n",
      "(11, 'g')\n",
      "[(0, 'G'), (1, 'o'), (2, 'o'), (3, 'd'), (4, ' '), (5, 'M'), (6, 'o'), (7, 'r'), (8, 'n'), (9, 'i'), (10, 'n'), (11, 'g')]\n",
      "12\n"
     ]
    }
   ],
   "source": [
    "for i in enumerate(word):\n",
    "    print(i)\n",
    "list1 = list(enumerate(word))\n",
    "print(list1)\n",
    "    \n",
    "print(len(word))\n",
    "\n"
   ]
  },
  {
   "cell_type": "code",
   "execution_count": 85,
   "id": "d07deb2e",
   "metadata": {},
   "outputs": [
    {
     "name": "stdout",
     "output_type": "stream",
     "text": [
      "He said, \"what's there\"\n"
     ]
    }
   ],
   "source": [
    "char = \"He said, \\\"what\\'s there\\\"\"\n",
    "print(char) #escape sequence in string"
   ]
  },
  {
   "cell_type": "code",
   "execution_count": 88,
   "id": "933fac90",
   "metadata": {},
   "outputs": [
    {
     "name": "stdout",
     "output_type": "stream",
     "text": [
      "He said, \\\"what\\'s there\\\"\n"
     ]
    }
   ],
   "source": [
    "char = r\"He said, \\\"what\\'s there\\\"\"\n",
    "print(char) #raw string ignore escape sequence"
   ]
  },
  {
   "cell_type": "code",
   "execution_count": 94,
   "id": "d30ac3c2",
   "metadata": {},
   "outputs": [
    {
     "name": "stdout",
     "output_type": "stream",
     "text": [
      "SUJI, SRAVS and SUMO\n",
      "SRAVS, SUJI and SUMO\n"
     ]
    }
   ],
   "source": [
    "var = \"{}, {} and {}\".format(\"SUJI\",\"SRAVS\",\"SUMO\")\n",
    "print(var)\n",
    "var = \"{1}, {0} and {2}\".format(\"SUJI\",\"SRAVS\",\"SUMO\")\n",
    "print(var) #Formatting strings and their positional printing statements."
   ]
  },
  {
   "cell_type": "code",
   "execution_count": 99,
   "id": "3d026e98",
   "metadata": {},
   "outputs": [
    {
     "data": {
      "text/plain": [
       "'Binary representation of 14 is 1110'"
      ]
     },
     "execution_count": 99,
     "metadata": {},
     "output_type": "execute_result"
    }
   ],
   "source": [
    "\"Binary representation of {0} is {0:b}\".format(14) #formatting integers"
   ]
  },
  {
   "cell_type": "code",
   "execution_count": 100,
   "id": "b0ad9612",
   "metadata": {},
   "outputs": [
    {
     "data": {
      "text/plain": [
       "'Exponential representation of 1566.345 is 1.566345e+03'"
      ]
     },
     "execution_count": 100,
     "metadata": {},
     "output_type": "execute_result"
    }
   ],
   "source": [
    "\"Exponential representation of {0} is {0:e}\".format(1566.345) #formatting floats"
   ]
  },
  {
   "cell_type": "code",
   "execution_count": 101,
   "id": "a09a1148",
   "metadata": {},
   "outputs": [
    {
     "data": {
      "text/plain": [
       "'One third is 0.333'"
      ]
     },
     "execution_count": 101,
     "metadata": {},
     "output_type": "execute_result"
    }
   ],
   "source": [
    "\"One third is {0:.3f}\".format(1/3) #formatting round-off"
   ]
  },
  {
   "cell_type": "code",
   "execution_count": 102,
   "id": "e9c28aea",
   "metadata": {},
   "outputs": [
    {
     "data": {
      "text/plain": [
       "'|butter    |  bread   |       ham|'"
      ]
     },
     "execution_count": 102,
     "metadata": {},
     "output_type": "execute_result"
    }
   ],
   "source": [
    "\"|{:<10}|{:^10}|{:>10}|\".format('butter','bread','ham') #String alignment"
   ]
  },
  {
   "cell_type": "code",
   "execution_count": 106,
   "id": "e87ae708",
   "metadata": {},
   "outputs": [
    {
     "name": "stdout",
     "output_type": "stream",
     "text": [
      "Number is 13.46\n"
     ]
    }
   ],
   "source": [
    "x  = 13.4567889\n",
    "print(\"Number is %3.2f\" %x) #old style Sprintf() as %"
   ]
  },
  {
   "cell_type": "code",
   "execution_count": 107,
   "id": "2a1962f4",
   "metadata": {},
   "outputs": [
    {
     "name": "stdout",
     "output_type": "stream",
     "text": [
      "hello\n",
      "HELLO\n",
      "2\n",
      "hi\n"
     ]
    }
   ],
   "source": [
    "x = \"Hello\"\n",
    "print(x.lower())\n",
    "print(x.upper())\n",
    "print(x.find(\"l\"))\n",
    "print(x.replace(\"Hello\",\"hi\")) #common string methods"
   ]
  },
  {
   "cell_type": "markdown",
   "id": "28e25db4",
   "metadata": {},
   "source": [
    "# Sets"
   ]
  },
  {
   "cell_type": "code",
   "execution_count": 108,
   "id": "05433e86",
   "metadata": {},
   "outputs": [
    {
     "name": "stdout",
     "output_type": "stream",
     "text": [
      "{34, 3, 4, 5, 6}\n"
     ]
    }
   ],
   "source": [
    "s = {3,4,5,6,34,5,5}\n",
    "print(s) # sets doesnot allow duplicate values and not in particular order."
   ]
  },
  {
   "cell_type": "code",
   "execution_count": 109,
   "id": "54407b8a",
   "metadata": {},
   "outputs": [
    {
     "name": "stdout",
     "output_type": "stream",
     "text": [
      "{'dog', 'monkey', 'elephant', 'cat'}\n",
      "{'elephant', 'Tiger', 'dog', 'monkey', 'cat'}\n"
     ]
    }
   ],
   "source": [
    "animals = {\"dog\",\"cat\",\"elephant\",\"monkey\"}\n",
    "print(animals)\n",
    "animals.add(\"Tiger\")\n",
    "print(animals)"
   ]
  },
  {
   "cell_type": "code",
   "execution_count": 112,
   "id": "ccc6666d",
   "metadata": {},
   "outputs": [
    {
     "name": "stdout",
     "output_type": "stream",
     "text": [
      "{'dolphins', 'elephant', 'dog', 'lion', 'cat', 'Tiger'}\n"
     ]
    }
   ],
   "source": [
    "animal = {\"dog\",\"cat\",\"elephant\"}\n",
    "wild_animals = {\"Tiger\",\"lion\",\"elephant\"}\n",
    "animal.update(wild_animals,{\"dolphins\"}) #update the values\n",
    "print(animal)"
   ]
  },
  {
   "cell_type": "code",
   "execution_count": 113,
   "id": "fd2ac64b",
   "metadata": {},
   "outputs": [
    {
     "name": "stdout",
     "output_type": "stream",
     "text": [
      "{'dolphins', 'elephant', 'dog', 'lion', 'cat', 'Tiger'}\n"
     ]
    }
   ],
   "source": [
    "animal.discard(\"Cat\")\n",
    "print(animal) #removing elements from the set"
   ]
  },
  {
   "cell_type": "code",
   "execution_count": 120,
   "id": "42901b47",
   "metadata": {},
   "outputs": [
    {
     "name": "stdout",
     "output_type": "stream",
     "text": [
      "{'Tiger'}\n"
     ]
    }
   ],
   "source": [
    "wild_animals.remove(\"lion\")\n",
    "print(wild_animals) #removing element"
   ]
  },
  {
   "cell_type": "code",
   "execution_count": 121,
   "id": "5ed142ff",
   "metadata": {},
   "outputs": [
    {
     "name": "stdout",
     "output_type": "stream",
     "text": [
      "{'dolphins', 'elephant', 'dog', 'lion', 'cat', 'Tiger'}\n"
     ]
    }
   ],
   "source": [
    "animal.discard(\"ferret\") #if it is not present it returns none\n",
    "print(animal)"
   ]
  },
  {
   "cell_type": "code",
   "execution_count": 122,
   "id": "33f56f16",
   "metadata": {},
   "outputs": [
    {
     "ename": "KeyError",
     "evalue": "'ferret'",
     "output_type": "error",
     "traceback": [
      "\u001b[1;31m---------------------------------------------------------------------------\u001b[0m",
      "\u001b[1;31mKeyError\u001b[0m                                  Traceback (most recent call last)",
      "\u001b[1;32m~\\AppData\\Local\\Temp/ipykernel_3092/840812072.py\u001b[0m in \u001b[0;36m<module>\u001b[1;34m\u001b[0m\n\u001b[1;32m----> 1\u001b[1;33m \u001b[0manimal\u001b[0m\u001b[1;33m.\u001b[0m\u001b[0mremove\u001b[0m\u001b[1;33m(\u001b[0m\u001b[1;34m\"ferret\"\u001b[0m\u001b[1;33m)\u001b[0m\u001b[1;33m\u001b[0m\u001b[1;33m\u001b[0m\u001b[0m\n\u001b[0m\u001b[0;32m      2\u001b[0m \u001b[0mprint\u001b[0m\u001b[1;33m(\u001b[0m\u001b[0manimal\u001b[0m\u001b[1;33m)\u001b[0m\u001b[1;33m\u001b[0m\u001b[1;33m\u001b[0m\u001b[0m\n",
      "\u001b[1;31mKeyError\u001b[0m: 'ferret'"
     ]
    }
   ],
   "source": [
    "animal.remove(\"ferret\")\n",
    "print(animal) #if not present gives error"
   ]
  },
  {
   "cell_type": "code",
   "execution_count": 124,
   "id": "47ac2312",
   "metadata": {},
   "outputs": [
    {
     "name": "stdout",
     "output_type": "stream",
     "text": [
      "False\n",
      "True\n"
     ]
    }
   ],
   "source": [
    "print(\"ferret\" in animal)\n",
    "print(\"ferret\" not in animal) #membership operations in set"
   ]
  },
  {
   "cell_type": "code",
   "execution_count": 125,
   "id": "a6755d62",
   "metadata": {},
   "outputs": [
    {
     "name": "stdout",
     "output_type": "stream",
     "text": [
      "dolphins\n",
      "elephant\n",
      "dog\n",
      "lion\n",
      "cat\n",
      "Tiger\n"
     ]
    }
   ],
   "source": [
    "for animals in animal:\n",
    "    print(animals) #iteration without particular order."
   ]
  },
  {
   "cell_type": "code",
   "execution_count": 128,
   "id": "8a60b8ac",
   "metadata": {},
   "outputs": [
    {
     "name": "stdout",
     "output_type": "stream",
     "text": [
      "{'dog', 'lion', 'peacock', 'cat', 'Tiger'}\n",
      "{'peacock'}\n"
     ]
    }
   ],
   "source": [
    "pet_animals = {\"cat\",\"dog\",\"peacock\"}\n",
    "wild_animal = {\"Tiger\",\"lion\",\"peacock\"}\n",
    "print(pet_animals.union(wild_animal))\n",
    "print(pet_animals.intersection(wild_animal))"
   ]
  },
  {
   "cell_type": "code",
   "execution_count": 129,
   "id": "70259b77",
   "metadata": {},
   "outputs": [
    {
     "name": "stdout",
     "output_type": "stream",
     "text": [
      "1. {'dog', 'tiger', 'elephant', 'cat'}\n",
      "2. {'tiger', 'elephant'}\n",
      "3. {'elephant', 'snake', 'tiger'}\n",
      "4. {10, 5}\n"
     ]
    }
   ],
   "source": [
    "animals = {\"dog\",\"cat\",\"tiger\",\"elephant\",\"dog\"}\n",
    "print(\"1.\",animals)\n",
    "animals.remove(\"cat\")\n",
    "animals.remove(\"dog\")\n",
    "print(\"2.\",animals)\n",
    "animals.add(\"snake\")\n",
    "print(\"3.\",animals)\n",
    "result = {1,5,10}&{100,10,3,5}\n",
    "print(\"4.\",result)"
   ]
  },
  {
   "cell_type": "code",
   "execution_count": 130,
   "id": "e592787b",
   "metadata": {},
   "outputs": [
    {
     "name": "stdout",
     "output_type": "stream",
     "text": [
      "<class 'dict'> <class 'set'>\n"
     ]
    }
   ],
   "source": [
    "a = {} #empty parenthesis makes empty dictionary\n",
    "b = set() \n",
    "print(type(a),type(b))"
   ]
  },
  {
   "cell_type": "code",
   "execution_count": 137,
   "id": "c613052c",
   "metadata": {},
   "outputs": [
    {
     "name": "stdout",
     "output_type": "stream",
     "text": [
      "santhi\n"
     ]
    }
   ],
   "source": [
    "s = {\"suji\",\"sumo\",\"sravs\",\"santhi\"}\n",
    "print(s.pop()) #removes random element in set"
   ]
  },
  {
   "cell_type": "code",
   "execution_count": 138,
   "id": "38ee3965",
   "metadata": {},
   "outputs": [
    {
     "name": "stdout",
     "output_type": "stream",
     "text": [
      "None\n"
     ]
    }
   ],
   "source": [
    "print(s.clear()) #clears all the element in the set"
   ]
  },
  {
   "cell_type": "code",
   "execution_count": 142,
   "id": "3c7f8475",
   "metadata": {},
   "outputs": [
    {
     "name": "stdout",
     "output_type": "stream",
     "text": [
      "{2, 3, 4, 5}\n",
      "{8, 9, 6, 7}\n",
      "{2, 3, 4, 5}\n",
      "{8, 9, 6, 7}\n"
     ]
    }
   ],
   "source": [
    "A = {1,2,3,4,5}\n",
    "B = {6,7,8,9,1}\n",
    "print(A-B)\n",
    "print(B-A)\n",
    "print(A.difference(B))\n",
    "print(B.difference(A))#difference operations"
   ]
  },
  {
   "cell_type": "code",
   "execution_count": 145,
   "id": "e4296b26",
   "metadata": {},
   "outputs": [
    {
     "name": "stdout",
     "output_type": "stream",
     "text": [
      "{2, 3, 4, 5, 6, 7, 8, 9}\n",
      "{2, 3, 4, 5, 6, 7, 8, 9}\n"
     ]
    }
   ],
   "source": [
    "print(A^B) #symmetric excluding common elements in the set.\n",
    "print(A.symmetric_difference(B))"
   ]
  },
  {
   "cell_type": "code",
   "execution_count": 148,
   "id": "e45082d7",
   "metadata": {},
   "outputs": [
    {
     "name": "stdout",
     "output_type": "stream",
     "text": [
      "n\n",
      "m\n",
      "H\n",
      "h\n",
      "t\n",
      "e\n",
      "a\n"
     ]
    }
   ],
   "source": [
    "for letter in set(\"Hemanth\"):\n",
    "    print(letter) #iteration in sets"
   ]
  },
  {
   "cell_type": "code",
   "execution_count": 154,
   "id": "a6b85934",
   "metadata": {},
   "outputs": [
    {
     "name": "stdout",
     "output_type": "stream",
     "text": [
      "frozenset({56, 1, 2, 3})\n",
      "False\n",
      "frozenset({56, 2, 3})\n"
     ]
    },
    {
     "ename": "AttributeError",
     "evalue": "'frozenset' object has no attribute 'add'",
     "output_type": "error",
     "traceback": [
      "\u001b[1;31m---------------------------------------------------------------------------\u001b[0m",
      "\u001b[1;31mAttributeError\u001b[0m                            Traceback (most recent call last)",
      "\u001b[1;32m~\\AppData\\Local\\Temp/ipykernel_3092/4170735018.py\u001b[0m in \u001b[0;36m<module>\u001b[1;34m\u001b[0m\n\u001b[0;32m      3\u001b[0m \u001b[0mprint\u001b[0m\u001b[1;33m(\u001b[0m\u001b[0ma\u001b[0m\u001b[1;33m.\u001b[0m\u001b[0misdisjoint\u001b[0m\u001b[1;33m(\u001b[0m\u001b[0mB\u001b[0m\u001b[1;33m)\u001b[0m\u001b[1;33m)\u001b[0m\u001b[1;31m#returns true if all elements are same\u001b[0m\u001b[1;33m\u001b[0m\u001b[1;33m\u001b[0m\u001b[0m\n\u001b[0;32m      4\u001b[0m \u001b[0mprint\u001b[0m\u001b[1;33m(\u001b[0m\u001b[0ma\u001b[0m\u001b[1;33m.\u001b[0m\u001b[0mdifference\u001b[0m\u001b[1;33m(\u001b[0m\u001b[0mB\u001b[0m\u001b[1;33m)\u001b[0m\u001b[1;33m)\u001b[0m \u001b[1;31m#difference\u001b[0m\u001b[1;33m\u001b[0m\u001b[1;33m\u001b[0m\u001b[0m\n\u001b[1;32m----> 5\u001b[1;33m \u001b[0mprint\u001b[0m\u001b[1;33m(\u001b[0m\u001b[0ma\u001b[0m\u001b[1;33m.\u001b[0m\u001b[0madd\u001b[0m\u001b[1;33m(\u001b[0m\u001b[1;36m3\u001b[0m\u001b[1;33m)\u001b[0m\u001b[1;33m)\u001b[0m\u001b[1;33m\u001b[0m\u001b[1;33m\u001b[0m\u001b[0m\n\u001b[0m",
      "\u001b[1;31mAttributeError\u001b[0m: 'frozenset' object has no attribute 'add'"
     ]
    }
   ],
   "source": [
    "a = frozenset([1,2,3,56])\n",
    "print(a)\n",
    "print(a.isdisjoint(B))#returns true if all elements are same\n",
    "print(a.difference(B)) #difference\n",
    "print(a.add(3)) #frozensets are immutable"
   ]
  },
  {
   "cell_type": "markdown",
   "id": "2c28ec06",
   "metadata": {},
   "source": [
    "# Dictionary"
   ]
  },
  {
   "cell_type": "code",
   "execution_count": 155,
   "id": "2998903e",
   "metadata": {},
   "outputs": [
    {
     "name": "stdout",
     "output_type": "stream",
     "text": [
      "{'Age': 21, 'name': 'suji'}\n"
     ]
    }
   ],
   "source": [
    "person = {\"Age\":21,\"name\":\"suji\"}\n",
    "print(person)"
   ]
  },
  {
   "cell_type": "code",
   "execution_count": 163,
   "id": "a8e75b2d",
   "metadata": {},
   "outputs": [
    {
     "name": "stdout",
     "output_type": "stream",
     "text": [
      "21\n",
      "suji\n",
      "['Fishing', 'dancing']\n"
     ]
    },
    {
     "ename": "KeyError",
     "evalue": "'hobbies'",
     "output_type": "error",
     "traceback": [
      "\u001b[1;31m---------------------------------------------------------------------------\u001b[0m",
      "\u001b[1;31mKeyError\u001b[0m                                  Traceback (most recent call last)",
      "\u001b[1;32m~\\AppData\\Local\\Temp/ipykernel_3092/2776050605.py\u001b[0m in \u001b[0;36m<module>\u001b[1;34m\u001b[0m\n\u001b[0;32m      2\u001b[0m \u001b[0mprint\u001b[0m\u001b[1;33m(\u001b[0m\u001b[0mperson\u001b[0m\u001b[1;33m[\u001b[0m\u001b[1;34m\"name\"\u001b[0m\u001b[1;33m]\u001b[0m\u001b[1;33m)\u001b[0m\u001b[1;33m\u001b[0m\u001b[1;33m\u001b[0m\u001b[0m\n\u001b[0;32m      3\u001b[0m \u001b[0mprint\u001b[0m\u001b[1;33m(\u001b[0m\u001b[0mperson\u001b[0m\u001b[1;33m.\u001b[0m\u001b[0mget\u001b[0m\u001b[1;33m(\u001b[0m\u001b[1;34m\"hobbies\"\u001b[0m\u001b[1;33m,\u001b[0m\u001b[1;33m[\u001b[0m\u001b[1;34m\"Fishing\"\u001b[0m\u001b[1;33m,\u001b[0m\u001b[1;34m\"dancing\"\u001b[0m\u001b[1;33m]\u001b[0m\u001b[1;33m)\u001b[0m\u001b[1;33m)\u001b[0m\u001b[1;33m\u001b[0m\u001b[1;33m\u001b[0m\u001b[0m\n\u001b[1;32m----> 4\u001b[1;33m \u001b[0mprint\u001b[0m\u001b[1;33m(\u001b[0m\u001b[0mperson\u001b[0m\u001b[1;33m[\u001b[0m\u001b[1;34m\"hobbies\"\u001b[0m\u001b[1;33m]\u001b[0m\u001b[1;33m)\u001b[0m\u001b[1;33m\u001b[0m\u001b[1;33m\u001b[0m\u001b[0m\n\u001b[0m",
      "\u001b[1;31mKeyError\u001b[0m: 'hobbies'"
     ]
    }
   ],
   "source": [
    "print(person[\"Age\"])\n",
    "print(person[\"name\"])\n",
    "print(person.get(\"hobbies\",[\"Fishing\",\"dancing\"])) #get method return none if that not present\n",
    "print(person[\"hobbies\"]) #hobbies are not present in dictionary"
   ]
  },
  {
   "cell_type": "code",
   "execution_count": 179,
   "id": "55b14e4e",
   "metadata": {},
   "outputs": [
    {
     "name": "stdout",
     "output_type": "stream",
     "text": [
      "{'name': 'suji', 'hobbies': ['dancing'], 'Age': 45}\n",
      "{'name': 'suji', 'hobbies': ['dancing'], 'Age': 45}\n"
     ]
    }
   ],
   "source": [
    "person[\"Age\"] = 45\n",
    "print(person) #changes values using key in dictionary\n",
    "person[\"hobbies\"] = [\"dancing\"] #new values are added\n",
    "print(person)"
   ]
  },
  {
   "cell_type": "code",
   "execution_count": 180,
   "id": "d8622d82",
   "metadata": {},
   "outputs": [
    {
     "name": "stdout",
     "output_type": "stream",
     "text": [
      "{'name': 'suji', 'hobbies': ['dancing']}\n"
     ]
    }
   ],
   "source": [
    "person.pop(\"Age\")\n",
    "print(person) #removes the value from dictionary"
   ]
  },
  {
   "cell_type": "code",
   "execution_count": 181,
   "id": "14192b51",
   "metadata": {},
   "outputs": [
    {
     "name": "stdout",
     "output_type": "stream",
     "text": [
      "['dancing']\n"
     ]
    }
   ],
   "source": [
    "print(person.pop(\"hobbies\"))"
   ]
  },
  {
   "cell_type": "code",
   "execution_count": 183,
   "id": "14357a60",
   "metadata": {},
   "outputs": [
    {
     "name": "stdout",
     "output_type": "stream",
     "text": [
      "name\n",
      "suji\n"
     ]
    }
   ],
   "source": [
    "for key in person:\n",
    "    print(key) #iteration in dictionary\n",
    "    print(person[key])"
   ]
  },
  {
   "cell_type": "code",
   "execution_count": 185,
   "id": "8cf498e4",
   "metadata": {},
   "outputs": [
    {
     "name": "stdout",
     "output_type": "stream",
     "text": [
      "1. peak\n",
      "2. {'mountains': 'peak', 'forest': 'jungle', 'terrain': 'land'}\n",
      "3. {'mountains': 'peak', 'terrain': 'land'}\n"
     ]
    }
   ],
   "source": [
    "synonyms = {\"mountains\" : \"peak\",\"forest\" : \"jungle\"}\n",
    "print(\"1.\",synonyms[\"mountains\"])\n",
    "synonyms[\"terrain\"] = \"land\"\n",
    "print(\"2.\",synonyms)\n",
    "synonyms.pop(\"forest\")\n",
    "print(\"3.\",synonyms)"
   ]
  },
  {
   "cell_type": "code",
   "execution_count": 187,
   "id": "f8b41f31",
   "metadata": {},
   "outputs": [
    {
     "name": "stdout",
     "output_type": "stream",
     "text": [
      "{'Math': 0, 'English': 0, 'Science': 0}\n",
      "('Math', 0)\n",
      "('English', 0)\n",
      "('Science', 0)\n",
      "['English', 'Math', 'Science']\n"
     ]
    }
   ],
   "source": [
    "# Dictionary Methods\n",
    "marks = {}.fromkeys(['Math', 'English', 'Science'], 0)\n",
    "print(marks)\n",
    "\n",
    "for item in marks.items():\n",
    "    print(item)\n",
    "print(list(sorted(marks.keys())))"
   ]
  },
  {
   "cell_type": "code",
   "execution_count": 188,
   "id": "fb53c962",
   "metadata": {},
   "outputs": [
    {
     "name": "stdout",
     "output_type": "stream",
     "text": [
      "{0: 0, 1: 1, 2: 4, 3: 9, 4: 16, 5: 25}\n"
     ]
    }
   ],
   "source": [
    "# Dictionary Comprehension\n",
    "squares = {x: x*x for x in range(6)}\n",
    "\n",
    "print(squares)"
   ]
  },
  {
   "cell_type": "code",
   "execution_count": 189,
   "id": "1895017b",
   "metadata": {},
   "outputs": [
    {
     "name": "stdout",
     "output_type": "stream",
     "text": [
      "{1: 1, 3: 9, 5: 25, 7: 49, 9: 81}\n"
     ]
    }
   ],
   "source": [
    "# Dictionary Comprehension with if conditional\n",
    "odd_squares = {x: x*x for x in range(11) if x % 2 == 1}\n",
    "\n",
    "print(odd_squares)"
   ]
  },
  {
   "cell_type": "code",
   "execution_count": 190,
   "id": "01ff5458",
   "metadata": {},
   "outputs": [
    {
     "name": "stdout",
     "output_type": "stream",
     "text": [
      "True\n",
      "True\n",
      "False\n"
     ]
    }
   ],
   "source": [
    "# Membership Test for Dictionary Keys\n",
    "squares = {1: 1, 3: 9, 5: 25, 7: 49, 9: 81}\n",
    "print(1 in squares)\n",
    "print(2 not in squares)\n",
    "\n",
    "# membership tests for key only not value\n",
    "print(49 in squares)"
   ]
  },
  {
   "cell_type": "code",
   "execution_count": 191,
   "id": "e5998cef",
   "metadata": {},
   "outputs": [
    {
     "name": "stdout",
     "output_type": "stream",
     "text": [
      "1\n",
      "9\n",
      "25\n",
      "49\n",
      "81\n"
     ]
    }
   ],
   "source": [
    "# Iterating through a Dictionary\n",
    "squares = {1: 1, 3: 9, 5: 25, 7: 49, 9: 81}\n",
    "for i in squares:\n",
    "    print(squares[i])"
   ]
  },
  {
   "cell_type": "code",
   "execution_count": 192,
   "id": "c9e0bf6f",
   "metadata": {},
   "outputs": [
    {
     "name": "stdout",
     "output_type": "stream",
     "text": [
      "False\n",
      "True\n",
      "6\n",
      "[0, 1, 3, 5, 7, 9]\n"
     ]
    }
   ],
   "source": [
    "# Dictionary Built-in Functions\n",
    "squares = {0: 0, 1: 1, 3: 9, 5: 25, 7: 49, 9: 81}\n",
    "print(all(squares))\n",
    "print(any(squares))\n",
    "print(len(squares))"
   ]
  },
  {
   "cell_type": "code",
   "execution_count": null,
   "id": "ea41af61",
   "metadata": {},
   "outputs": [],
   "source": []
  }
 ],
 "metadata": {
  "kernelspec": {
   "display_name": "Python 3 (ipykernel)",
   "language": "python",
   "name": "python3"
  },
  "language_info": {
   "codemirror_mode": {
    "name": "ipython",
    "version": 3
   },
   "file_extension": ".py",
   "mimetype": "text/x-python",
   "name": "python",
   "nbconvert_exporter": "python",
   "pygments_lexer": "ipython3",
   "version": "3.9.7"
  }
 },
 "nbformat": 4,
 "nbformat_minor": 5
}
