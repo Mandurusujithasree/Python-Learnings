{
 "cells": [
  {
   "cell_type": "code",
   "execution_count": null,
   "id": "3662d180",
   "metadata": {},
   "outputs": [
    {
     "name": "stdout",
     "output_type": "stream",
     "text": [
      "Enter a number: 2\n",
      "This value is too small, try again!\n",
      "\n"
     ]
    }
   ],
   "source": [
    "# define Python user-defined exceptions\n",
    "class Error(Exception):\n",
    "    \"\"\"Base class for other exceptions\"\"\"\n",
    "    pass\n",
    "\n",
    "\n",
    "class ValueTooSmallError(Error):\n",
    "    \"\"\"Raised when the input value is too small\"\"\"\n",
    "    pass\n",
    "\n",
    "\n",
    "class ValueTooLargeError(Error):\n",
    "    \"\"\"Raised when the input value is too large\"\"\"\n",
    "    pass\n",
    "\n",
    "\n",
    "# you need to guess this number\n",
    "number = 10\n",
    "\n",
    "# user guesses a number until he/she gets it right\n",
    "while True:\n",
    "    try:\n",
    "        i_num = int(input(\"Enter a number: \"))\n",
    "        if i_num < number:\n",
    "            raise ValueTooSmallError\n",
    "        elif i_num > number:\n",
    "            raise ValueTooLargeError\n",
    "        break\n",
    "    except ValueTooSmallError:\n",
    "        print(\"This value is too small, try again!\")\n",
    "        print()\n",
    "    except ValueTooLargeError:\n",
    "        print(\"This value is too large, try again!\")\n",
    "        print()\n",
    "\n",
    "print(\"Congratulations! You guessed it correctly.\")"
   ]
  },
  {
   "cell_type": "code",
   "execution_count": null,
   "id": "5ae5e2e2",
   "metadata": {},
   "outputs": [],
   "source": [
    "f = open(\"msg.txt\",\"r\")\n",
    "content = f.read(6) #first 6 characters are printed\n",
    "print(content)\n",
    "more_content = f.read(12) #next 12 characters are printed\n",
    "print(more_content)\n",
    "f.close()\n",
    "with open(\"msg.txt\",\"r\") as f:\n",
    "    content = f.read(6) #first 6 characters are printed\n",
    "    print(content)\n",
    "    more_content = f.read(12) #next 12 characters are printed\n",
    "    print(more_content) #using with keyword, it automatically closes the file\n",
    "with open(\"python.txt\",\"w\") as f:\n",
    "    f.write(\"I love python\\n\")\n",
    "    f.write(\"I love coding\\n\") #here in write mode, if file doesnot exist it creates the file\n",
    "with open(\"python.txt\",\"a\") as f: #adds to the file\n",
    "    f.write(\"python is my favourite subject\\n\")\n",
    "\n",
    "import os\n",
    "current_dir = os.getcwd()\n",
    "print(current_dir) #gives the directory location\n",
    "os.chdir('C:\\\\python')\n",
    "print(os.getcwd()) #changing directory using chdir()\n",
    "print(os.listdir()) #gives the all files in the folders,we can pass arguments also to know particular file in folder\n",
    "create_dir = os.mkdir(\"Jupyter\")\n",
    "print(create_dir)\n",
    "\n"
   ]
  },
  {
   "cell_type": "code",
   "execution_count": null,
   "id": "3ad3831c",
   "metadata": {},
   "outputs": [],
   "source": []
  }
 ],
 "metadata": {
  "kernelspec": {
   "display_name": "Python 3 (ipykernel)",
   "language": "python",
   "name": "python3"
  },
  "language_info": {
   "codemirror_mode": {
    "name": "ipython",
    "version": 3
   },
   "file_extension": ".py",
   "mimetype": "text/x-python",
   "name": "python",
   "nbconvert_exporter": "python",
   "pygments_lexer": "ipython3",
   "version": "3.9.7"
  }
 },
 "nbformat": 4,
 "nbformat_minor": 5
}
