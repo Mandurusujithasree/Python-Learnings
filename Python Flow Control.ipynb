{
 "cells": [
  {
   "cell_type": "markdown",
   "id": "4a6b8857",
   "metadata": {},
   "source": [
    "# If else loops\n"
   ]
  },
  {
   "cell_type": "code",
   "execution_count": 1,
   "id": "836b7c13",
   "metadata": {},
   "outputs": [
    {
     "name": "stdout",
     "output_type": "stream",
     "text": [
      "34\n",
      "Failed your Exam\n"
     ]
    }
   ],
   "source": [
    "marks = int(input())\n",
    "if (marks>50):\n",
    "    print(\"Passed your Exam\")\n",
    "    print(\"Congratulations\")\n",
    "if marks<50:\n",
    "    print(\"Failed your Exam\") #if syntax"
   ]
  },
  {
   "cell_type": "code",
   "execution_count": 2,
   "id": "fe72f250",
   "metadata": {},
   "outputs": [
    {
     "name": "stdout",
     "output_type": "stream",
     "text": [
      "Passed your Exam\n",
      "Congratulations\n"
     ]
    }
   ],
   "source": [
    "marks = 56\n",
    "if (marks>50):\n",
    "    print(\"Passed your Exam\")\n",
    "    print(\"Congratulations\")\n",
    "else:\n",
    "    print(\"Failed your Exam\") #If - Else syntax"
   ]
  },
  {
   "cell_type": "code",
   "execution_count": 3,
   "id": "4f77efbe",
   "metadata": {},
   "outputs": [
    {
     "name": "stdout",
     "output_type": "stream",
     "text": [
      "45\n",
      "The number is Positive\n"
     ]
    }
   ],
   "source": [
    "marks = int(input())\n",
    "if marks>0:\n",
    "    print(\"The number is Positive\")\n",
    "elif marks==0:\n",
    "        print(\"The number is Zero\")\n",
    "else:\n",
    "    print(\"The number is negative\") #if - elif - else Syntax"
   ]
  },
  {
   "cell_type": "code",
   "execution_count": 4,
   "id": "a6ccff97",
   "metadata": {},
   "outputs": [
    {
     "name": "stdout",
     "output_type": "stream",
     "text": [
      "Negative number\n"
     ]
    }
   ],
   "source": [
    "num = -3.4\n",
    "if num > 0:\n",
    "    print(\"Positive number\")\n",
    "elif num == 0:\n",
    "    print(\"Zero\")\n",
    "else:\n",
    "    print(\"Negative number\")"
   ]
  },
  {
   "cell_type": "code",
   "execution_count": 5,
   "id": "fb393818",
   "metadata": {},
   "outputs": [
    {
     "name": "stdout",
     "output_type": "stream",
     "text": [
      "54\n",
      "Number is Positive\n"
     ]
    }
   ],
   "source": [
    "number = float(input())\n",
    "if number>=0:\n",
    "    if number==0:\n",
    "        print(\"Number is Zero\")\n",
    "    else:\n",
    "        print(\"Number is Positive\")\n",
    "elif number<0:\n",
    "    print(\"Number is Negative\") #nested if"
   ]
  },
  {
   "cell_type": "markdown",
   "id": "294c0e22",
   "metadata": {},
   "source": [
    "# For Loop"
   ]
  },
  {
   "cell_type": "code",
   "execution_count": 6,
   "id": "d1d60c48",
   "metadata": {},
   "outputs": [
    {
     "name": "stdout",
     "output_type": "stream",
     "text": [
      "H\n",
      "e\n",
      "l\n",
      "l\n",
      "o\n",
      " \n",
      "W\n",
      "e\n",
      "l\n",
      "c\n",
      "o\n",
      "m\n",
      "e\n",
      " \n",
      "t\n",
      "o\n",
      " \n",
      "t\n",
      "h\n",
      "e\n",
      " \n",
      "P\n",
      "a\n",
      "r\n",
      "t\n",
      "y\n"
     ]
    }
   ],
   "source": [
    "s = \"Hello Welcome to the Party\"\n",
    "for character in s:\n",
    "    print(character)"
   ]
  },
  {
   "cell_type": "code",
   "execution_count": 7,
   "id": "71dcfee5",
   "metadata": {},
   "outputs": [
    {
     "name": "stdout",
     "output_type": "stream",
     "text": [
      "French\n",
      "Telugu\n",
      "English\n"
     ]
    }
   ],
   "source": [
    "list1 = [\"French\",\"Telugu\",\"English\"]\n",
    "for language in list1:\n",
    "    print(language)"
   ]
  },
  {
   "cell_type": "code",
   "execution_count": 8,
   "id": "2af0735b",
   "metadata": {},
   "outputs": [
    {
     "name": "stdout",
     "output_type": "stream",
     "text": [
      "1\n",
      "2\n",
      "3\n",
      "4\n",
      "5\n"
     ]
    }
   ],
   "source": [
    "for count in range(1,6):\n",
    "    print(count)"
   ]
  },
  {
   "cell_type": "code",
   "execution_count": 9,
   "id": "edcf281d",
   "metadata": {},
   "outputs": [
    {
     "name": "stdout",
     "output_type": "stream",
     "text": [
      "32\n",
      "1\n",
      "2\n",
      "3\n",
      "4\n",
      "5\n",
      "6\n",
      "7\n",
      "8\n",
      "9\n",
      "10\n",
      "11\n",
      "12\n",
      "13\n",
      "14\n",
      "15\n",
      "16\n",
      "17\n",
      "18\n",
      "19\n",
      "20\n",
      "21\n",
      "22\n",
      "23\n",
      "24\n",
      "25\n",
      "26\n",
      "27\n",
      "28\n",
      "29\n",
      "30\n",
      "31\n"
     ]
    }
   ],
   "source": [
    "Number = int(input())\n",
    "for count in range(1,Number):\n",
    "    print(count)"
   ]
  },
  {
   "cell_type": "code",
   "execution_count": 10,
   "id": "46a41521",
   "metadata": {},
   "outputs": [
    {
     "name": "stdout",
     "output_type": "stream",
     "text": [
      "23\n",
      "23 * 1 = 23\n",
      "23 * 2 = 46\n",
      "23 * 3 = 69\n",
      "23 * 4 = 92\n",
      "23 * 5 = 115\n",
      "23 * 6 = 138\n",
      "23 * 7 = 161\n",
      "23 * 8 = 184\n",
      "23 * 9 = 207\n",
      "23 * 10 = 230\n"
     ]
    }
   ],
   "source": [
    "num = int(input())\n",
    "for count in range(1,11):\n",
    "    product = num * count\n",
    "    print(num,\"*\",count,\"=\",product) #tables using for loop"
   ]
  },
  {
   "cell_type": "code",
   "execution_count": 11,
   "id": "2f9cd8b0",
   "metadata": {},
   "outputs": [
    {
     "name": "stdout",
     "output_type": "stream",
     "text": [
      "5050\n"
     ]
    }
   ],
   "source": [
    "sum=0\n",
    "for i in range(1,101):\n",
    "    sum = sum+i\n",
    "print(sum) #sum of 100 Natural numbers\n",
    "        "
   ]
  },
  {
   "cell_type": "code",
   "execution_count": 12,
   "id": "287a4ab7",
   "metadata": {},
   "outputs": [
    {
     "name": "stdout",
     "output_type": "stream",
     "text": [
      "98\n"
     ]
    }
   ],
   "source": [
    "list2 = [3,4,5,78,8]\n",
    "sum=0\n",
    "for value in list2:\n",
    "    sum = sum+value;\n",
    "print(sum) #sum of values in a list"
   ]
  },
  {
   "cell_type": "code",
   "execution_count": 13,
   "id": "18eb54b8",
   "metadata": {},
   "outputs": [
    {
     "name": "stdout",
     "output_type": "stream",
     "text": [
      "range(0, 10)\n",
      "[1, 2, 3, 4, 5, 6, 7, 8, 9, 10]\n",
      "[1, 3, 5, 7, 9]\n"
     ]
    }
   ],
   "source": [
    "print(range(10))\n",
    "print(list(range(1,11)))\n",
    "print(list(range(1,11,2))) #range function "
   ]
  },
  {
   "cell_type": "code",
   "execution_count": 14,
   "id": "f59463b4",
   "metadata": {},
   "outputs": [
    {
     "name": "stdout",
     "output_type": "stream",
     "text": [
      "I Like Music\n",
      "I Like Books\n",
      "I Like Dance\n"
     ]
    }
   ],
   "source": [
    " list2 = [\"Music\",\"Books\",\"Dance\"]\n",
    " for i in range(len(list2)):\n",
    "    print(\"I Like\",list2[i]) #printing values in list using index"
   ]
  },
  {
   "cell_type": "code",
   "execution_count": 15,
   "id": "3a2254cb",
   "metadata": {},
   "outputs": [
    {
     "name": "stdout",
     "output_type": "stream",
     "text": [
      "1\n",
      "4\n",
      "5\n",
      "6\n",
      "Invalid Reason\n"
     ]
    }
   ],
   "source": [
    "digits = [1,4,5,6]\n",
    "for i in digits:\n",
    "    print(i)\n",
    "else:\n",
    "    print(\"Invalid Reason\") #for-else statement"
   ]
  },
  {
   "cell_type": "code",
   "execution_count": 16,
   "id": "efd7f48f",
   "metadata": {},
   "outputs": [
    {
     "name": "stdout",
     "output_type": "stream",
     "text": [
      "No Entry with that name\n"
     ]
    }
   ],
   "source": [
    "req_name = \"Suji\"\n",
    "class1 = {\"Sarath\" : 90,\"Adhya\" : 80}\n",
    "for i in class1:\n",
    "    if i == req_name:\n",
    "        print(class1[i])\n",
    "        break\n",
    "else:\n",
    "    print(\"No Entry with that name\") #break is used in that case else statement is printed"
   ]
  },
  {
   "cell_type": "markdown",
   "id": "2553bebd",
   "metadata": {},
   "source": [
    "# While Loop"
   ]
  },
  {
   "cell_type": "code",
   "execution_count": 17,
   "id": "17c14d4a",
   "metadata": {},
   "outputs": [
    {
     "name": "stdout",
     "output_type": "stream",
     "text": [
      "Inside the While loop\n",
      "Inside the While loop\n",
      "Inside the While loop\n",
      "Inside the While loop\n",
      "Inside the While loop\n"
     ]
    }
   ],
   "source": [
    "count = 0\n",
    "while count < 5:\n",
    "    print(\"Inside the While loop\")\n",
    "    count += 1\n",
    "    "
   ]
  },
  {
   "cell_type": "code",
   "execution_count": 18,
   "id": "d84cf80e",
   "metadata": {},
   "outputs": [
    {
     "name": "stdout",
     "output_type": "stream",
     "text": [
      "0\n",
      "1\n",
      "2\n",
      "3\n",
      "4\n"
     ]
    }
   ],
   "source": [
    "count = 0\n",
    "while count<5:\n",
    "    print(count)\n",
    "    count+=1"
   ]
  },
  {
   "cell_type": "code",
   "execution_count": 19,
   "id": "6a1997aa",
   "metadata": {},
   "outputs": [
    {
     "name": "stdout",
     "output_type": "stream",
     "text": [
      "5\n",
      "6\n",
      "7\n",
      "8\n",
      "9\n"
     ]
    }
   ],
   "source": [
    "count = 5\n",
    "while count<10:\n",
    "    print(count)\n",
    "    count+=1"
   ]
  },
  {
   "cell_type": "code",
   "execution_count": 20,
   "id": "e487cf85",
   "metadata": {},
   "outputs": [
    {
     "name": "stdout",
     "output_type": "stream",
     "text": [
      "Enter the number: 44\n",
      "44 * 1 = 44\n",
      "44 * 2 = 88\n",
      "44 * 3 = 132\n",
      "44 * 4 = 176\n",
      "44 * 5 = 220\n",
      "44 * 6 = 264\n",
      "44 * 7 = 308\n",
      "44 * 8 = 352\n",
      "44 * 9 = 396\n",
      "44 * 10 = 440\n"
     ]
    }
   ],
   "source": [
    "Number = int(input(\"Enter the number: \"))\n",
    "count = 1\n",
    "while count<=10:\n",
    "    product = Number*count\n",
    "    print(Number,\"*\",count,\"=\",product)\n",
    "    count += 1 #printing tables using while loop"
   ]
  },
  {
   "cell_type": "code",
   "execution_count": 21,
   "id": "a4623d00",
   "metadata": {},
   "outputs": [
    {
     "name": "stdout",
     "output_type": "stream",
     "text": [
      "Enter the number: 22\n",
      "22 * 10 = 220\n",
      "22 * 9 = 198\n",
      "22 * 8 = 176\n",
      "22 * 7 = 154\n",
      "22 * 6 = 132\n",
      "22 * 5 = 110\n",
      "22 * 4 = 88\n",
      "22 * 3 = 66\n",
      "22 * 2 = 44\n",
      "22 * 1 = 22\n"
     ]
    }
   ],
   "source": [
    "Number = int(input(\"Enter the number: \"))\n",
    "count = 10\n",
    "while (count<=10) & (count>0):\n",
    "    product = Number*count\n",
    "    print(Number,\"*\",count,\"=\",product)\n",
    "    count -= 1 #printing tables from reverse"
   ]
  },
  {
   "cell_type": "code",
   "execution_count": 22,
   "id": "b09aa43c",
   "metadata": {},
   "outputs": [
    {
     "name": "stdout",
     "output_type": "stream",
     "text": [
      "22\n",
      "The Sum: 253\n"
     ]
    }
   ],
   "source": [
    "n = int(input())\n",
    "i = 1\n",
    "sum = 0\n",
    "while i <= n:\n",
    "    sum = sum+i\n",
    "    i+=1\n",
    "print(\"The Sum:\",sum) #counting the natural numbers using while loop\n",
    "    "
   ]
  },
  {
   "cell_type": "code",
   "execution_count": 23,
   "id": "08aa1923",
   "metadata": {},
   "outputs": [
    {
     "name": "stdout",
     "output_type": "stream",
     "text": [
      "Inside loop\n",
      "Inside loop\n",
      "Inside loop\n",
      "Inside else\n"
     ]
    }
   ],
   "source": [
    "counter = 0\n",
    "while counter < 3:\n",
    "    print(\"Inside loop\")\n",
    "    counter += 1\n",
    "else: \n",
    "    print(\"Inside else\") #while-else loop"
   ]
  },
  {
   "cell_type": "markdown",
   "id": "17e65bb0",
   "metadata": {},
   "source": [
    "# Break and Continue"
   ]
  },
  {
   "cell_type": "code",
   "execution_count": 24,
   "id": "fb6088e2",
   "metadata": {},
   "outputs": [
    {
     "name": "stdout",
     "output_type": "stream",
     "text": [
      "1\n"
     ]
    }
   ],
   "source": [
    "for item in range(1,6):\n",
    "    print(item)\n",
    "    break #break is used to come out of the current iteration"
   ]
  },
  {
   "cell_type": "code",
   "execution_count": 25,
   "id": "e74af220",
   "metadata": {},
   "outputs": [],
   "source": [
    "for item in range(1,6):\n",
    "    break\n",
    "    print(item) #used to print nothing"
   ]
  },
  {
   "cell_type": "code",
   "execution_count": 26,
   "id": "0c144c21",
   "metadata": {},
   "outputs": [
    {
     "name": "stdout",
     "output_type": "stream",
     "text": [
      "1\n",
      "2\n",
      "The End\n"
     ]
    }
   ],
   "source": [
    "for item in range(1,6):\n",
    "    if item == 3:\n",
    "        break\n",
    "    print(item)\n",
    "print(\"The End\") # item=3 then it terminates the if iteration\n"
   ]
  },
  {
   "cell_type": "code",
   "execution_count": 27,
   "id": "f808be7d",
   "metadata": {},
   "outputs": [
    {
     "name": "stdout",
     "output_type": "stream",
     "text": [
      "Enter the number: 23\n",
      "You Entered :  23.0\n",
      "Enter the number: 44\n",
      "You Entered :  44.0\n",
      "Enter the number: -3\n"
     ]
    }
   ],
   "source": [
    "while True:\n",
    "    num = float(input(\"Enter the number: \"))\n",
    "    if num < 0:\n",
    "        break\n",
    "    print(\"You Entered : \",num) #break in while"
   ]
  },
  {
   "cell_type": "code",
   "execution_count": 28,
   "id": "6bfa42d3",
   "metadata": {},
   "outputs": [
    {
     "name": "stdout",
     "output_type": "stream",
     "text": [
      "Enter the number: 43\n",
      "43.0\n",
      "Enter the number: -2\n",
      "Enter the number: 4\n",
      "4.0\n",
      "Enter the number: 32\n",
      "32.0\n",
      "Enter the number: -45\n"
     ]
    }
   ],
   "source": [
    "for i in range(5):\n",
    "    number = float(input(\"Enter the number: \"))\n",
    "    if number<0:\n",
    "        continue\n",
    "    print(number) #continue used to skip that iteration and asks for next iteration"
   ]
  },
  {
   "cell_type": "code",
   "execution_count": 43,
   "id": "4c903935",
   "metadata": {},
   "outputs": [
    {
     "name": "stdout",
     "output_type": "stream",
     "text": [
      "Python\n",
      "C\n",
      "Java\n"
     ]
    }
   ],
   "source": [
    "languages = [\"Python\",\"C\",\"Swift\",\"C++\",\"Java\"]\n",
    "for l in languages:\n",
    "    if l == \"Swift\" or l == \"C++\":\n",
    "        continue\n",
    "    print(l) #skips if l is Swift and C++ by using continue"
   ]
  },
  {
   "cell_type": "code",
   "execution_count": 44,
   "id": "335cf456",
   "metadata": {},
   "outputs": [
    {
     "name": "stdout",
     "output_type": "stream",
     "text": [
      "S\n",
      "p\n",
      "n\n",
      "d\n",
      "n\n"
     ]
    }
   ],
   "source": [
    "string = \"Spandana\"\n",
    "for i in string:\n",
    "    if i == \"a\":\n",
    "        continue\n",
    "    print(i) #gives the string except a"
   ]
  },
  {
   "cell_type": "code",
   "execution_count": 45,
   "id": "ef6cacc0",
   "metadata": {},
   "outputs": [
    {
     "name": "stdout",
     "output_type": "stream",
     "text": [
      "S\n",
      "p\n"
     ]
    }
   ],
   "source": [
    "string = \"Spandana\"\n",
    "for i in string:\n",
    "    if i == \"a\":\n",
    "        break\n",
    "    print(i) #gives output until string has a character"
   ]
  },
  {
   "cell_type": "markdown",
   "id": "d0ec8689",
   "metadata": {},
   "source": [
    "# Pass"
   ]
  },
  {
   "cell_type": "code",
   "execution_count": 46,
   "id": "dc75af45",
   "metadata": {},
   "outputs": [],
   "source": [
    "number = 9.9\n",
    "if number > 5.5:\n",
    "    pass # it is used when we dont know what to write we keep pass and for not having errors"
   ]
  },
  {
   "cell_type": "code",
   "execution_count": 47,
   "id": "18dec77d",
   "metadata": {},
   "outputs": [],
   "source": [
    "sequences = {'p','q','r','s'}\n",
    "for value in sequences:\n",
    "    pass"
   ]
  },
  {
   "cell_type": "code",
   "execution_count": 48,
   "id": "572ee366",
   "metadata": {},
   "outputs": [],
   "source": [
    "def function(Args):\n",
    "    pass"
   ]
  },
  {
   "cell_type": "code",
   "execution_count": 49,
   "id": "a6df696f",
   "metadata": {},
   "outputs": [],
   "source": [
    "class Example:\n",
    "    pass"
   ]
  },
  {
   "cell_type": "markdown",
   "id": "5f77702d",
   "metadata": {},
   "source": [
    "# Lambda Functions"
   ]
  },
  {
   "cell_type": "code",
   "execution_count": 50,
   "id": "5dfbcdd6",
   "metadata": {},
   "outputs": [
    {
     "name": "stdout",
     "output_type": "stream",
     "text": [
      "40\n"
     ]
    }
   ],
   "source": [
    "double = lambda n:n*2\n",
    "print(double(20)) #Here Lambda takes any number of arguments but only one expression it takes"
   ]
  },
  {
   "cell_type": "code",
   "execution_count": 51,
   "id": "c809c633",
   "metadata": {},
   "outputs": [
    {
     "name": "stdout",
     "output_type": "stream",
     "text": [
      "78\n"
     ]
    }
   ],
   "source": [
    "large = lambda a,b:a if a>b else b\n",
    "print(large(56,78)) #takes multiple arguments in lambda function"
   ]
  },
  {
   "cell_type": "code",
   "execution_count": 52,
   "id": "45090057",
   "metadata": {},
   "outputs": [
    {
     "name": "stdout",
     "output_type": "stream",
     "text": [
      "['Arjun', 'Bunny', 'Jay', 'Karan', 'Parthesh', 'Sudarshan']\n"
     ]
    }
   ],
   "source": [
    "names = [\"Arjun\",\"Parthesh\",\"Karan\",\"Bunny\",\"Jay\",\"Sudarshan\"]\n",
    "names.sort() #sort() method to sort the names according to alphabetically\n",
    "print(names)"
   ]
  },
  {
   "cell_type": "code",
   "execution_count": 53,
   "id": "48c610a2",
   "metadata": {},
   "outputs": [
    {
     "name": "stdout",
     "output_type": "stream",
     "text": [
      "['Jay', 'Arjun', 'Karan', 'Bunny', 'Parthesh', 'Sudarshan']\n"
     ]
    }
   ],
   "source": [
    "names = [\"Arjun\",\"Parthesh\",\"Karan\",\"Bunny\",\"Jay\",\"Sudarshan\"]\n",
    "names.sort(key = lambda x:len(x)) #sort() method to sort the names according to alphabetically\n",
    "print(names) #using lambda it sorts the list according to length"
   ]
  },
  {
   "cell_type": "code",
   "execution_count": 54,
   "id": "e7a1194f",
   "metadata": {},
   "outputs": [
    {
     "name": "stdout",
     "output_type": "stream",
     "text": [
      "[24, 78, 98]\n"
     ]
    }
   ],
   "source": [
    "my_list = [1,49653,24,78,98,33,323,679]\n",
    "new_list = list(filter(lambda x:(x%2==0),my_list)) #lambda is used with filter() methods \n",
    "print(new_list)"
   ]
  },
  {
   "cell_type": "code",
   "execution_count": 55,
   "id": "adfa10cc",
   "metadata": {},
   "outputs": [
    {
     "name": "stdout",
     "output_type": "stream",
     "text": [
      "[3, 15, 21, 27, 9]\n"
     ]
    }
   ],
   "source": [
    "list1 = [1,5,7,9,3]\n",
    "new_list = list(map(lambda x:(x*3),list1))\n",
    "print(new_list) #map() function is used to map according to given statements,lambda is used along with map() method"
   ]
  },
  {
   "cell_type": "markdown",
   "id": "6571590f",
   "metadata": {},
   "source": [
    "# Global, Local & Non-local Variables"
   ]
  },
  {
   "cell_type": "code",
   "execution_count": 56,
   "id": "8226b1b9",
   "metadata": {},
   "outputs": [
    {
     "name": "stdout",
     "output_type": "stream",
     "text": [
      "8\n"
     ]
    },
    {
     "ename": "NameError",
     "evalue": "name 'result' is not defined",
     "output_type": "error",
     "traceback": [
      "\u001b[1;31m---------------------------------------------------------------------------\u001b[0m",
      "\u001b[1;31mNameError\u001b[0m                                 Traceback (most recent call last)",
      "\u001b[1;32m~\\AppData\\Local\\Temp/ipykernel_3844/3782354251.py\u001b[0m in \u001b[0;36m<module>\u001b[1;34m\u001b[0m\n\u001b[0;32m      3\u001b[0m     \u001b[0mprint\u001b[0m\u001b[1;33m(\u001b[0m\u001b[0mresult\u001b[0m\u001b[1;33m)\u001b[0m \u001b[1;31m# It gives output as '8'\u001b[0m\u001b[1;33m\u001b[0m\u001b[1;33m\u001b[0m\u001b[0m\n\u001b[0;32m      4\u001b[0m \u001b[0maddition\u001b[0m\u001b[1;33m(\u001b[0m\u001b[1;36m3\u001b[0m\u001b[1;33m,\u001b[0m\u001b[1;36m5\u001b[0m\u001b[1;33m)\u001b[0m\u001b[1;33m\u001b[0m\u001b[1;33m\u001b[0m\u001b[0m\n\u001b[1;32m----> 5\u001b[1;33m \u001b[0mprint\u001b[0m\u001b[1;33m(\u001b[0m\u001b[0mresult\u001b[0m\u001b[1;33m)\u001b[0m\u001b[1;31m# It gives an error because result is not defined. result is local variable which is accessful only inside the function\u001b[0m\u001b[1;33m\u001b[0m\u001b[1;33m\u001b[0m\u001b[0m\n\u001b[0m",
      "\u001b[1;31mNameError\u001b[0m: name 'result' is not defined"
     ]
    }
   ],
   "source": [
    "def addition(n1,n2):\n",
    "    result = n1+n2\n",
    "    print(result) # It gives output as '8'\n",
    "addition(3,5)\n",
    "print(result)# It gives an error because result is not defined. result is local variable which is accessful only inside the function "
   ]
  },
  {
   "cell_type": "code",
   "execution_count": 57,
   "id": "3debf062",
   "metadata": {},
   "outputs": [
    {
     "name": "stdout",
     "output_type": "stream",
     "text": [
      "8\n"
     ]
    }
   ],
   "source": [
    "def addition(n1,n2):\n",
    "    result = n1+n2\n",
    "    return result \n",
    "output = addition(3,5)\n",
    "print(output) # By using return value and assigning another variable for calling function gives access to local variable"
   ]
  },
  {
   "cell_type": "code",
   "execution_count": 58,
   "id": "99ffe070",
   "metadata": {},
   "outputs": [
    {
     "data": {
      "text/plain": [
       "'How are you doing?'"
      ]
     },
     "execution_count": 58,
     "metadata": {},
     "output_type": "execute_result"
    }
   ],
   "source": [
    "message = \"How are you doing?\"\n",
    "def greet():\n",
    "   return message #it returns value which is outside function which is known as global variable \n",
    "greet() #accessable to the entire code"
   ]
  },
  {
   "cell_type": "code",
   "execution_count": 59,
   "id": "f701aee8",
   "metadata": {},
   "outputs": [
    {
     "name": "stdout",
     "output_type": "stream",
     "text": [
      "Inside greet :  How are you?\n",
      "Outside greet :  How are you doing?\n"
     ]
    }
   ],
   "source": [
    "message = \"How are you doing?\"\n",
    "def greet():\n",
    "    message = \"How are you?\"\n",
    "    print(\"Inside greet : \",message) #local variable\n",
    "greet()\n",
    "print(\"Outside greet : \",message) #global variable"
   ]
  },
  {
   "cell_type": "code",
   "execution_count": 60,
   "id": "5cf6698f",
   "metadata": {},
   "outputs": [
    {
     "name": "stdout",
     "output_type": "stream",
     "text": [
      "Inside greet :  How are you?\n",
      "Outside greet :  How are you?\n"
     ]
    }
   ],
   "source": [
    "message = \"How are you doing?\"\n",
    "def greet():\n",
    "    global message #global keyword used it can be accessable to entire code\n",
    "    message = \"How are you?\"\n",
    "    print(\"Inside greet : \",message) \n",
    "greet()\n",
    "print(\"Outside greet : \",message)"
   ]
  },
  {
   "cell_type": "code",
   "execution_count": 61,
   "id": "98a59c19",
   "metadata": {},
   "outputs": [
    {
     "name": "stdout",
     "output_type": "stream",
     "text": [
      "Evening\n",
      "Morning\n"
     ]
    }
   ],
   "source": [
    "x = \"Evening\"\n",
    "def foo():\n",
    "    global x\n",
    "    y = \"Morning\"\n",
    "    print(x)\n",
    "    print(y)\n",
    "foo() # Both local and global variables used in same function"
   ]
  },
  {
   "cell_type": "code",
   "execution_count": 62,
   "id": "b0316dd9",
   "metadata": {},
   "outputs": [
    {
     "name": "stdout",
     "output_type": "stream",
     "text": [
      "Local :  8\n",
      "Global:  10\n"
     ]
    }
   ],
   "source": [
    "x = 10\n",
    "def func():\n",
    "    x = 8\n",
    "    print(\"Local : \",x)\n",
    "func()\n",
    "print(\"Global: \",x) #Both local and global variables in same func()"
   ]
  },
  {
   "cell_type": "code",
   "execution_count": 63,
   "id": "355b096d",
   "metadata": {},
   "outputs": [
    {
     "name": "stdout",
     "output_type": "stream",
     "text": [
      "Inside:  nonlocal\n",
      "Outside:  nonlocal\n"
     ]
    }
   ],
   "source": [
    "def outer():\n",
    "    x = \"local\"\n",
    "    def inner():\n",
    "        nonlocal x\n",
    "        x = \"nonlocal\"\n",
    "        print(\"Inside: \",x)\n",
    "    inner()\n",
    "    print(\"Outside: \",x)\n",
    "outer() # if nonlocal value changes then it also changes local variable also"
   ]
  },
  {
   "cell_type": "markdown",
   "id": "4199e31c",
   "metadata": {},
   "source": [
    "# Modules"
   ]
  },
  {
   "cell_type": "code",
   "execution_count": 64,
   "id": "e16fee81",
   "metadata": {},
   "outputs": [
    {
     "name": "stdout",
     "output_type": "stream",
     "text": [
      "5.0\n",
      "3.141592653589793\n"
     ]
    }
   ],
   "source": [
    "import math\n",
    "number  = 25\n",
    "result  = math.sqrt(number)\n",
    "print(result)\n",
    "print(math.pi)#modules math module contains all mathematical operations"
   ]
  },
  {
   "cell_type": "code",
   "execution_count": 65,
   "id": "d5e8bc54",
   "metadata": {},
   "outputs": [
    {
     "name": "stdout",
     "output_type": "stream",
     "text": [
      "5.0\n",
      "3.141592653589793\n"
     ]
    }
   ],
   "source": [
    "import math as m #renaming modules using 'as' keyword\n",
    "number  = 25\n",
    "result  = m.sqrt(number)\n",
    "print(result)\n",
    "print(m.pi)"
   ]
  },
  {
   "cell_type": "code",
   "execution_count": 66,
   "id": "831ce2a0",
   "metadata": {},
   "outputs": [
    {
     "name": "stdout",
     "output_type": "stream",
     "text": [
      "1.0\n",
      "0.39185723042955\n",
      "8.0\n"
     ]
    }
   ],
   "source": [
    "from math import sqrt,sin,cos,pi #particular module, particular function required then we used 'from' and 'import' words\n",
    "num = 64\n",
    "print(sin(pi/2))\n",
    "print(cos(num))\n",
    "print(sqrt(num))"
   ]
  },
  {
   "cell_type": "code",
   "execution_count": 67,
   "id": "577bb922",
   "metadata": {},
   "outputs": [
    {
     "name": "stdout",
     "output_type": "stream",
     "text": [
      "1.0\n",
      "0.39185723042955\n",
      "8.0\n"
     ]
    }
   ],
   "source": [
    "from math import * # Importing everything in the module\n",
    "num = 64\n",
    "print(sin(pi/2))\n",
    "print(cos(num))\n",
    "print(sqrt(num))"
   ]
  },
  {
   "cell_type": "code",
   "execution_count": 68,
   "id": "ee37c705",
   "metadata": {},
   "outputs": [
    {
     "name": "stdout",
     "output_type": "stream",
     "text": [
      "['__doc__', '__loader__', '__name__', '__package__', '__spec__', 'acos', 'acosh', 'asin', 'asinh', 'atan', 'atan2', 'atanh', 'ceil', 'comb', 'copysign', 'cos', 'cosh', 'degrees', 'dist', 'e', 'erf', 'erfc', 'exp', 'expm1', 'fabs', 'factorial', 'floor', 'fmod', 'frexp', 'fsum', 'gamma', 'gcd', 'hypot', 'inf', 'isclose', 'isfinite', 'isinf', 'isnan', 'isqrt', 'lcm', 'ldexp', 'lgamma', 'log', 'log10', 'log1p', 'log2', 'modf', 'nan', 'nextafter', 'perm', 'pi', 'pow', 'prod', 'radians', 'remainder', 'sin', 'sinh', 'sqrt', 'tan', 'tanh', 'tau', 'trunc', 'ulp']\n"
     ]
    }
   ],
   "source": [
    "import math\n",
    "print(dir(math)) # gives the all functions in the math module"
   ]
  },
  {
   "cell_type": "markdown",
   "id": "73c9ec96",
   "metadata": {},
   "source": [
    "# Packages"
   ]
  },
  {
   "cell_type": "code",
   "execution_count": 69,
   "id": "834cb931",
   "metadata": {},
   "outputs": [
    {
     "name": "stdout",
     "output_type": "stream",
     "text": [
      "Requirement already satisfied: pandas in c:\\programdata\\anaconda3\\lib\\site-packages (1.3.4)Note: you may need to restart the kernel to use updated packages.\n",
      "Requirement already satisfied: pytz>=2017.3 in c:\\programdata\\anaconda3\\lib\\site-packages (from pandas) (2021.3)\n",
      "Requirement already satisfied: python-dateutil>=2.7.3 in c:\\programdata\\anaconda3\\lib\\site-packages (from pandas) (2.8.2)\n",
      "Requirement already satisfied: numpy>=1.17.3 in c:\\programdata\\anaconda3\\lib\\site-packages (from pandas) (1.20.3)\n",
      "Requirement already satisfied: six>=1.5 in c:\\programdata\\anaconda3\\lib\\site-packages (from python-dateutil>=2.7.3->pandas) (1.16.0)\n",
      "\n"
     ]
    }
   ],
   "source": [
    "pip install pandas"
   ]
  },
  {
   "cell_type": "code",
   "execution_count": 72,
   "id": "892ba579",
   "metadata": {},
   "outputs": [
    {
     "name": "stdout",
     "output_type": "stream",
     "text": [
      "Requirement already satisfied: pandas in c:\\programdata\\anaconda3\\lib\\site-packages (1.3.4)\n",
      "Requirement already satisfied: python-dateutil>=2.7.3 in c:\\programdata\\anaconda3\\lib\\site-packages (from pandas) (2.8.2)\n",
      "Requirement already satisfied: pytz>=2017.3 in c:\\programdata\\anaconda3\\lib\\site-packages (from pandas) (2021.3)\n",
      "Requirement already satisfied: numpy>=1.17.3 in c:\\programdata\\anaconda3\\lib\\site-packages (from pandas) (1.20.3)\n",
      "Requirement already satisfied: six>=1.5 in c:\\programdata\\anaconda3\\lib\\site-packages (from python-dateutil>=2.7.3->pandas) (1.16.0)\n",
      "Note: you may need to restart the kernel to use updated packages.\n"
     ]
    }
   ],
   "source": [
    "pip install pandas "
   ]
  },
  {
   "cell_type": "code",
   "execution_count": 74,
   "id": "e873ebd3",
   "metadata": {},
   "outputs": [
    {
     "name": "stdout",
     "output_type": "stream",
     "text": [
      "<module 'pandas' from 'C:\\\\ProgramData\\\\Anaconda3\\\\lib\\\\site-packages\\\\pandas\\\\__init__.py'>\n"
     ]
    }
   ],
   "source": [
    "import pandas as pd\n",
    "print(pd) # installed"
   ]
  },
  {
   "cell_type": "code",
   "execution_count": 75,
   "id": "bedc8979",
   "metadata": {},
   "outputs": [
    {
     "name": "stdout",
     "output_type": "stream",
     "text": [
      "Package                            Version\n",
      "---------------------------------- --------------------\n",
      "alabaster                          0.7.12\n",
      "anaconda-client                    1.9.0\n",
      "anaconda-navigator                 2.1.1\n",
      "anaconda-project                   0.10.1\n",
      "anyio                              2.2.0\n",
      "appdirs                            1.4.4\n",
      "argh                               0.26.2\n",
      "argon2-cffi                        20.1.0\n",
      "arrow                              0.13.1\n",
      "asn1crypto                         1.4.0\n",
      "astroid                            2.6.6\n",
      "astropy                            4.3.1\n",
      "async-generator                    1.10\n",
      "atomicwrites                       1.4.0\n",
      "attrs                              21.2.0\n",
      "autopep8                           1.5.7\n",
      "Babel                              2.9.1\n",
      "backcall                           0.2.0\n",
      "backports.functools-lru-cache      1.6.4\n",
      "backports.shutil-get-terminal-size 1.0.0\n",
      "backports.tempfile                 1.0\n",
      "backports.weakref                  1.0.post1\n",
      "bcrypt                             3.2.0\n",
      "beautifulsoup4                     4.10.0\n",
      "binaryornot                        0.4.4\n",
      "bitarray                           2.3.0\n",
      "bkcharts                           0.2\n",
      "black                              19.10b0\n",
      "bleach                             4.0.0\n",
      "bokeh                              2.4.1\n",
      "boto                               2.49.0\n",
      "Bottleneck                         1.3.2\n",
      "brotlipy                           0.7.0\n",
      "cached-property                    1.5.2\n",
      "certifi                            2021.10.8\n",
      "cffi                               1.14.6\n",
      "chardet                            4.0.0\n",
      "charset-normalizer                 2.0.4\n",
      "click                              8.0.3\n",
      "cloudpickle                        2.0.0\n",
      "clyent                             1.2.2\n",
      "colorama                           0.4.4\n",
      "comtypes                           1.1.10\n",
      "conda                              4.10.3\n",
      "conda-build                        3.21.6\n",
      "conda-content-trust                0+unknown\n",
      "conda-pack                         0.6.0\n",
      "conda-package-handling             1.7.3\n",
      "conda-repo-cli                     1.0.4\n",
      "conda-token                        0.3.0\n",
      "conda-verify                       3.4.2\n",
      "contextlib2                        0.6.0.post1\n",
      "cookiecutter                       1.7.2\n",
      "cryptography                       3.4.8\n",
      "cycler                             0.10.0\n",
      "Cython                             0.29.24\n",
      "cytoolz                            0.11.0\n",
      "daal4py                            2021.3.0\n",
      "dask                               2021.10.0\n",
      "debugpy                            1.4.1\n",
      "decorator                          5.1.0\n",
      "defusedxml                         0.7.1\n",
      "diff-match-patch                   20200713\n",
      "distributed                        2021.10.0\n",
      "docutils                           0.17.1\n",
      "entrypoints                        0.3\n",
      "et-xmlfile                         1.1.0\n",
      "fastcache                          1.1.0\n",
      "filelock                           3.3.1\n",
      "flake8                             3.9.2\n",
      "Flask                              1.1.2\n",
      "fonttools                          4.25.0\n",
      "fsspec                             2021.10.1\n",
      "future                             0.18.2\n",
      "gevent                             21.8.0\n",
      "glob2                              0.7\n",
      "greenlet                           1.1.1\n",
      "h5py                               3.2.1\n",
      "HeapDict                           1.0.1\n",
      "html5lib                           1.1\n",
      "idna                               3.2\n",
      "imagecodecs                        2021.8.26\n",
      "imageio                            2.9.0\n",
      "imagesize                          1.2.0\n",
      "importlib-metadata                 4.8.1\n",
      "inflection                         0.5.1\n",
      "iniconfig                          1.1.1\n",
      "intervaltree                       3.1.0\n",
      "ipykernel                          6.4.1\n",
      "ipython                            7.29.0\n",
      "ipython-genutils                   0.2.0\n",
      "ipywidgets                         7.6.5\n",
      "isort                              5.9.3\n",
      "itsdangerous                       2.0.1\n",
      "jdcal                              1.4.1\n",
      "jedi                               0.18.0\n",
      "Jinja2                             2.11.3\n",
      "jinja2-time                        0.2.0\n",
      "joblib                             1.1.0\n",
      "json5                              0.9.6\n",
      "jsonschema                         3.2.0\n",
      "jupyter                            1.0.0\n",
      "jupyter-client                     6.1.12\n",
      "jupyter-console                    6.4.0\n",
      "jupyter-core                       4.8.1\n",
      "jupyter-server                     1.4.1\n",
      "jupyterlab                         3.2.1\n",
      "jupyterlab-pygments                0.1.2\n",
      "jupyterlab-server                  2.8.2\n",
      "jupyterlab-widgets                 1.0.0\n",
      "keyring                            23.1.0\n",
      "kiwisolver                         1.3.1\n",
      "lazy-object-proxy                  1.6.0\n",
      "libarchive-c                       2.9\n",
      "llvmlite                           0.37.0\n",
      "locket                             0.2.1\n",
      "lxml                               4.6.3\n",
      "MarkupSafe                         1.1.1\n",
      "matplotlib                         3.4.3\n",
      "matplotlib-inline                  0.1.2\n",
      "mccabe                             0.6.1\n",
      "menuinst                           1.4.18\n",
      "mistune                            0.8.4\n",
      "mkl-fft                            1.3.1\n",
      "mkl-random                         1.2.2\n",
      "mkl-service                        2.4.0\n",
      "mock                               4.0.3\n",
      "more-itertools                     8.10.0\n",
      "mpmath                             1.2.1\n",
      "msgpack                            1.0.2\n",
      "multipledispatch                   0.6.0\n",
      "munkres                            1.1.4\n",
      "mypy-extensions                    0.4.3\n",
      "navigator-updater                  0.2.1\n",
      "nbclassic                          0.2.6\n",
      "nbclient                           0.5.3\n",
      "nbconvert                          6.1.0\n",
      "nbformat                           5.1.3\n",
      "nest-asyncio                       1.5.1\n",
      "networkx                           2.6.3\n",
      "nltk                               3.6.5\n",
      "nose                               1.3.7\n",
      "notebook                           6.4.5\n",
      "numba                              0.54.1\n",
      "numexpr                            2.7.3\n",
      "numpy                              1.20.3\n",
      "numpydoc                           1.1.0\n",
      "olefile                            0.46\n",
      "opencv-python                      4.5.4.60\n",
      "openpyxl                           3.0.9\n",
      "packaging                          21.0\n",
      "pandas                             1.3.4\n",
      "pandocfilters                      1.4.3\n",
      "paramiko                           2.7.2\n",
      "parso                              0.8.2\n",
      "partd                              1.2.0\n",
      "path                               16.0.0\n",
      "pathlib2                           2.3.6\n",
      "pathspec                           0.7.0\n",
      "patsy                              0.5.2\n",
      "pep8                               1.7.1\n",
      "pexpect                            4.8.0\n",
      "pickleshare                        0.7.5\n",
      "Pillow                             8.4.0\n",
      "pip                                21.2.4\n",
      "pkginfo                            1.7.1\n",
      "pluggy                             0.13.1\n",
      "ply                                3.11\n",
      "poyo                               0.5.0\n",
      "prometheus-client                  0.11.0\n",
      "prompt-toolkit                     3.0.20\n",
      "psutil                             5.8.0\n",
      "ptyprocess                         0.7.0\n",
      "py                                 1.10.0\n",
      "pycodestyle                        2.7.0\n",
      "pycosat                            0.6.3\n",
      "pycparser                          2.20\n",
      "pycurl                             7.44.1\n",
      "pydocstyle                         6.1.1\n",
      "pyerfa                             2.0.0\n",
      "pyflakes                           2.3.1\n",
      "Pygments                           2.10.0\n",
      "PyJWT                              2.1.0\n",
      "pylint                             2.9.6\n",
      "pyls-spyder                        0.4.0\n",
      "PyNaCl                             1.4.0\n",
      "pyodbc                             4.0.0-unsupported\n",
      "pyOpenSSL                          21.0.0\n",
      "pyparsing                          3.0.4\n",
      "pyreadline                         2.1\n",
      "pyrsistent                         0.18.0\n",
      "PySocks                            1.7.1\n",
      "pytest                             6.2.4\n",
      "python-dateutil                    2.8.2\n",
      "python-lsp-black                   1.0.0\n",
      "python-lsp-jsonrpc                 1.0.0\n",
      "python-lsp-server                  1.2.4\n",
      "python-slugify                     5.0.2\n",
      "pytz                               2021.3\n",
      "PyWavelets                         1.1.1\n",
      "pywin32                            228\n",
      "pywin32-ctypes                     0.2.0\n",
      "pywinpty                           0.5.7\n",
      "PyYAML                             6.0\n",
      "pyzmq                              22.2.1\n",
      "QDarkStyle                         3.0.2\n",
      "qstylizer                          0.1.10\n",
      "QtAwesome                          1.0.2\n",
      "qtconsole                          5.1.1\n",
      "QtPy                               1.10.0\n",
      "regex                              2021.8.3\n",
      "requests                           2.26.0\n",
      "rope                               0.19.0\n",
      "Rtree                              0.9.7\n",
      "ruamel-yaml-conda                  0.15.100\n",
      "scikit-image                       0.18.3\n",
      "scikit-learn                       0.24.2\n",
      "scikit-learn-intelex               2021.20210714.120553\n",
      "scipy                              1.7.1\n",
      "seaborn                            0.11.2\n",
      "Send2Trash                         1.8.0\n",
      "setuptools                         58.0.4\n",
      "simplegeneric                      0.8.1\n",
      "singledispatch                     3.7.0\n",
      "sip                                4.19.13\n",
      "six                                1.16.0\n",
      "sniffio                            1.2.0\n",
      "snowballstemmer                    2.1.0\n",
      "sortedcollections                  2.1.0\n",
      "sortedcontainers                   2.4.0\n",
      "soupsieve                          2.2.1\n",
      "Sphinx                             4.2.0\n",
      "sphinxcontrib-applehelp            1.0.2\n",
      "sphinxcontrib-devhelp              1.0.2\n",
      "sphinxcontrib-htmlhelp             2.0.0\n",
      "sphinxcontrib-jsmath               1.0.1\n",
      "sphinxcontrib-qthelp               1.0.3\n",
      "sphinxcontrib-serializinghtml      1.1.5\n",
      "sphinxcontrib-websupport           1.2.4\n",
      "spyder                             5.1.5\n",
      "spyder-kernels                     2.1.3\n",
      "SQLAlchemy                         1.4.22\n",
      "statsmodels                        0.12.2\n",
      "sympy                              1.9\n",
      "tables                             3.6.1\n",
      "TBB                                0.2\n",
      "tblib                              1.7.0\n",
      "terminado                          0.9.4\n",
      "testpath                           0.5.0\n",
      "text-unidecode                     1.3\n",
      "textdistance                       4.2.1\n",
      "threadpoolctl                      2.2.0\n",
      "three-merge                        0.1.1\n",
      "tifffile                           2021.7.2\n",
      "tinycss                            0.4\n",
      "toml                               0.10.2\n",
      "toolz                              0.11.1\n",
      "tornado                            6.1\n",
      "tqdm                               4.62.3\n",
      "traitlets                          5.1.0\n",
      "typed-ast                          1.4.3\n",
      "typing-extensions                  3.10.0.2\n",
      "ujson                              4.0.2\n",
      "unicodecsv                         0.14.1\n",
      "Unidecode                          1.2.0\n",
      "urllib3                            1.26.7\n",
      "watchdog                           2.1.3\n",
      "wcwidth                            0.2.5\n",
      "webencodings                       0.5.1\n",
      "Werkzeug                           2.0.2\n",
      "wheel                              0.37.0\n",
      "whichcraft                         0.6.1\n",
      "widgetsnbextension                 3.5.1\n",
      "win-inet-pton                      1.1.0\n",
      "win-unicode-console                0.5\n",
      "wincertstore                       0.2\n",
      "wrapt                              1.12.1\n",
      "xlrd                               2.0.1\n",
      "XlsxWriter                         3.0.1\n",
      "xlwings                            0.24.9\n",
      "xlwt                               1.3.0\n",
      "xmltodict                          0.12.0\n",
      "yapf                               0.31.0\n",
      "zict                               2.0.0\n",
      "zipp                               3.6.0\n",
      "zope.event                         4.5.0\n",
      "zope.interface                     5.4.0\n",
      "Note: you may need to restart the kernel to use updated packages.\n"
     ]
    }
   ],
   "source": [
    "pip list"
   ]
  },
  {
   "cell_type": "code",
   "execution_count": null,
   "id": "4afe4fbd",
   "metadata": {},
   "outputs": [],
   "source": []
  },
  {
   "cell_type": "code",
   "execution_count": null,
   "id": "1792a7b8",
   "metadata": {},
   "outputs": [],
   "source": []
  },
  {
   "cell_type": "code",
   "execution_count": null,
   "id": "7cfe2da3",
   "metadata": {},
   "outputs": [],
   "source": []
  },
  {
   "cell_type": "code",
   "execution_count": null,
   "id": "ab6f3a6d",
   "metadata": {},
   "outputs": [],
   "source": []
  }
 ],
 "metadata": {
  "kernelspec": {
   "display_name": "Python 3 (ipykernel)",
   "language": "python",
   "name": "python3"
  },
  "language_info": {
   "codemirror_mode": {
    "name": "ipython",
    "version": 3
   },
   "file_extension": ".py",
   "mimetype": "text/x-python",
   "name": "python",
   "nbconvert_exporter": "python",
   "pygments_lexer": "ipython3",
   "version": "3.9.7"
  }
 },
 "nbformat": 4,
 "nbformat_minor": 5
}
